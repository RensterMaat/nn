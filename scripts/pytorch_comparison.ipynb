{
 "cells": [
  {
   "cell_type": "code",
   "execution_count": 152,
   "metadata": {},
   "outputs": [],
   "source": [
    "class Node:\n",
    "    def __init__(self, a,b,name):\n",
    "        self.name = name\n",
    "        self.a = a\n",
    "        self.b = b\n",
    "\n",
    "    def determine_backpropagation_order(self):\n",
    "        a_order, b_order = [],[]\n",
    "\n",
    "        if self.a:\n",
    "            a_order = self.a.determine_backpropagation_order()\n",
    "        \n",
    "        if self.b:\n",
    "            b_order = self.b.determine_backpropagation_order()\n",
    "\n",
    "        combined_order = self.topologically_ordered_merge(a_order, b_order)\n",
    "\n",
    "        return [self] + combined_order\n",
    "\n",
    "    def topologically_ordered_merge(self, a_order, b_order):\n",
    "        b_node_vs_index = {node:index for (index,node) in enumerate(b_order)}\n",
    "\n",
    "        merged = []\n",
    "        a_pointer, b_pointer = 0,0\n",
    "        for a_index, a_node in enumerate(a_order):\n",
    "            if a_node in b_node_vs_index:\n",
    "                b_index = b_node_vs_index[a_node]\n",
    "\n",
    "                merged.extend(a_order[a_pointer:a_index])\n",
    "                merged.extend(b_order[b_pointer:b_index])\n",
    "                merged.extend([a_node])\n",
    "\n",
    "                a_pointer = a_index + 1\n",
    "                b_pointer = b_index + 1\n",
    "\n",
    "        merged.extend(a_order[a_pointer:])\n",
    "        merged.extend(b_order[b_pointer:])\n",
    "\n",
    "        return merged\n",
    "\n",
    "\n",
    "a = Node(None, None, 'A')\n",
    "b = Node(a, None, 'B')\n",
    "c = Node(a, None, 'C')\n",
    "d = Node(b,c, 'D')\n",
    "e = Node(b, d, 'E')\n",
    "f = Node(d, None, 'F')\n",
    "g = Node(f, None, 'G')\n",
    "h = Node(e, g, 'H')    "
   ]
  },
  {
   "cell_type": "code",
   "execution_count": 154,
   "metadata": {},
   "outputs": [
    {
     "data": {
      "text/plain": [
       "['H', 'E', 'G', 'F', 'D', 'B', 'C', 'A']"
      ]
     },
     "execution_count": 154,
     "metadata": {},
     "output_type": "execute_result"
    }
   ],
   "source": [
    "[node.name for node in h.determine_backpropagation_order()]"
   ]
  },
  {
   "cell_type": "code",
   "execution_count": 146,
   "metadata": {},
   "outputs": [
    {
     "data": {
      "text/plain": [
       "[]"
      ]
     },
     "execution_count": 146,
     "metadata": {},
     "output_type": "execute_result"
    }
   ],
   "source": [
    "x = [1,2,3]\n",
    "x[4:]"
   ]
  },
  {
   "cell_type": "code",
   "execution_count": 80,
   "metadata": {},
   "outputs": [
    {
     "data": {
      "text/plain": [
       "array([[-1.00296886],\n",
       "       [-0.26703768],\n",
       "       [-1.73112204],\n",
       "       [-1.19364881],\n",
       "       [-1.71991329],\n",
       "       [ 1.81823182]])"
      ]
     },
     "execution_count": 80,
     "metadata": {},
     "output_type": "execute_result"
    }
   ],
   "source": [
    "import numpy as np\n",
    "from src.tensor import Tensor \n",
    "from src.module import Module\n",
    "from src.functional import Linear, ReLU, MSELoss\n",
    "from tests.util import get_numerical_gradient\n",
    "\n",
    "x = Tensor(np.random.randn(6, 1))\n",
    "# x = Tensor([[5],[2]])\n",
    "# y = Tensor(np.zeros((10,6,1)))\n",
    "\n",
    "x.value"
   ]
  },
  {
   "cell_type": "code",
   "execution_count": 129,
   "metadata": {},
   "outputs": [
    {
     "name": "stderr",
     "output_type": "stream",
     "text": [
      "c:\\users\\rens\\repos\\nn\\nn\\src\\tensor.py:229: RuntimeWarning: invalid value encountered in log\n",
      "  gradient = np.log(self.a.value) * self.a.value ** self.b.value * self.grad\n"
     ]
    }
   ],
   "source": [
    "class Softmax(Module):\n",
    "    def forward(self, x):\n",
    "        # z = x - x.max()\n",
    "        numerator = x - 0\n",
    "        # numerator = x - x.max()\n",
    "        # return z\n",
    "        # numerator = x\n",
    "\n",
    "        # numerator = np.e ** z\n",
    "        # numerator = np.e ** x\n",
    "        denominator = numerator.sum(axis=-2)\n",
    "        return numerator / denominator\n",
    "        # return (numerator.swapaxes(0,1) / denominator).swapaxes(0,1)\n",
    "\n",
    "y_hat = Softmax()(x) ** 2\n",
    "\n",
    "x.zero_grad()\n",
    "y_hat.backwards()\n",
    "\n",
    "analytical_gradient = x.grad\n",
    "numerical_gradient = get_numerical_gradient(\n",
    "    lambda x: Softmax()(x) ** 2, \n",
    "    x, \n",
    "    x\n",
    ")"
   ]
  },
  {
   "cell_type": "code",
   "execution_count": 130,
   "metadata": {},
   "outputs": [
    {
     "data": {
      "text/plain": [
       "array([[0.22269428],\n",
       "       [0.3104045 ],\n",
       "       [0.13591106],\n",
       "       [0.19996854],\n",
       "       [0.13724695],\n",
       "       [0.55893243]])"
      ]
     },
     "execution_count": 130,
     "metadata": {},
     "output_type": "execute_result"
    }
   ],
   "source": [
    "numerical_gradient"
   ]
  },
  {
   "cell_type": "code",
   "execution_count": 131,
   "metadata": {},
   "outputs": [
    {
     "data": {
      "text/plain": [
       "array([[ 0.10315773],\n",
       "       [ 0.27857809],\n",
       "       [-0.07040863],\n",
       "       [ 0.05770627],\n",
       "       [-0.06773685],\n",
       "       [ 0.77563371]])"
      ]
     },
     "execution_count": 131,
     "metadata": {},
     "output_type": "execute_result"
    }
   ],
   "source": [
    "analytical_gradient"
   ]
  },
  {
   "cell_type": "code",
   "execution_count": 139,
   "metadata": {},
   "outputs": [
    {
     "name": "stdout",
     "output_type": "stream",
     "text": [
      "<class 'src.tensor.Add'>\n",
      "(6, 1) (6, 1)\n",
      "[[0.22269415]\n",
      " [0.31040433]\n",
      " [0.13591097]\n",
      " [0.19996842]\n",
      " [0.13724686]\n",
      " [0.55893214]]\n",
      "\n",
      "<class 'src.tensor.Tensor'>\n",
      "(6, 1) (6, 1)\n",
      "<class 'src.tensor.Tensor'>\n",
      "() ()\n"
     ]
    }
   ],
   "source": [
    "point = y_hat.a.a\n",
    "\n",
    "print(type(point))\n",
    "print(point.shape, point.grad.shape)\n",
    "print(point.grad)\n",
    "print()\n",
    "print(type(point.a))\n",
    "if point.a: print(point.a.shape, point.a.grad.shape)\n",
    "print(type(point.b))\n",
    "if point.b: print(point.b.shape, point.b.grad.shape)"
   ]
  },
  {
   "cell_type": "code",
   "execution_count": 17,
   "metadata": {},
   "outputs": [
    {
     "name": "stderr",
     "output_type": "stream",
     "text": [
      "c:\\users\\rens\\repos\\nn\\nn\\src\\tensor.py:229: RuntimeWarning: invalid value encountered in log\n",
      "  gradient = np.log(self.a.value) * self.a.value ** self.b.value * self.grad\n"
     ]
    }
   ],
   "source": [
    "axis = 0\n",
    "operand = Tensor(np.random.randn(1,2,3,4,1))\n",
    "\n",
    "output = operand.sum(axis) ** 2\n",
    "output.backwards()\n",
    "\n",
    "analytical_gradient = operand.grad\n",
    "numerical_gradient = get_numerical_gradient(\n",
    "    lambda x: x.sum(axis) ** 2, \n",
    "    operand, \n",
    "    operand\n",
    ")\n",
    "\n"
   ]
  },
  {
   "cell_type": "code",
   "execution_count": 18,
   "metadata": {},
   "outputs": [
    {
     "name": "stdout",
     "output_type": "stream",
     "text": [
      "<class 'src.tensor.Sum'>\n",
      "(2, 3, 4, 1) (2, 3, 4, 1)\n",
      "\n",
      "<class 'src.tensor.Tensor'>\n",
      "(1, 2, 3, 4, 1) (1, 2, 3, 4, 1)\n",
      "<class 'NoneType'>\n"
     ]
    }
   ],
   "source": [
    "point = output.a\n",
    "\n",
    "print(type(point))\n",
    "print(point.shape, point.grad.shape)\n",
    "print()\n",
    "print(type(point.a))\n",
    "if point.a: print(point.a.shape, point.a.grad.shape)\n",
    "print(type(point.b))\n",
    "if point.b: print(point.b.shape, point.b.grad.shape)"
   ]
  },
  {
   "cell_type": "code",
   "execution_count": 20,
   "metadata": {},
   "outputs": [],
   "source": [
    "gradient = np.expand_dims(\n",
    "    point.grad, point.axis\n",
    ").repeat(\n",
    "    point.a.shape[point.axis], \n",
    "    point.axis\n",
    ")"
   ]
  },
  {
   "cell_type": "code",
   "execution_count": 25,
   "metadata": {},
   "outputs": [
    {
     "data": {
      "text/plain": [
       "array([[[[[-0.27829102],\n",
       "          [ 0.85762105],\n",
       "          [ 0.79798314],\n",
       "          [ 1.86664492]],\n",
       "\n",
       "         [[-0.33168568],\n",
       "          [ 1.7247919 ],\n",
       "          [ 0.19928603],\n",
       "          [-2.86502141]],\n",
       "\n",
       "         [[-0.82787865],\n",
       "          [-1.36991289],\n",
       "          [-0.54332345],\n",
       "          [-2.27695471]]],\n",
       "\n",
       "\n",
       "        [[[-1.06046408],\n",
       "          [-2.45910261],\n",
       "          [ 1.07515675],\n",
       "          [-1.45368118]],\n",
       "\n",
       "         [[-0.75100475],\n",
       "          [ 0.29703797],\n",
       "          [-0.76098292],\n",
       "          [ 3.42728596]],\n",
       "\n",
       "         [[ 0.95384727],\n",
       "          [-2.89373414],\n",
       "          [ 2.08313651],\n",
       "          [ 0.21220115]]]]])"
      ]
     },
     "execution_count": 25,
     "metadata": {},
     "output_type": "execute_result"
    }
   ],
   "source": [
    "point.a.undo_broadcasting(gradient)"
   ]
  },
  {
   "cell_type": "code",
   "execution_count": 19,
   "metadata": {},
   "outputs": [],
   "source": [
    "zero_grad = np.zeros(param.shape)\n",
    "grad = param.grad"
   ]
  },
  {
   "cell_type": "code",
   "execution_count": 25,
   "metadata": {},
   "outputs": [
    {
     "data": {
      "text/plain": [
       "(6, 1)"
      ]
     },
     "execution_count": 25,
     "metadata": {},
     "output_type": "execute_result"
    }
   ],
   "source": [
    "zero_grad.shape"
   ]
  },
  {
   "cell_type": "code",
   "execution_count": 2,
   "metadata": {},
   "outputs": [
    {
     "name": "stdout",
     "output_type": "stream",
     "text": [
      "(10, 12, 1) (10, 12, 1)\n",
      "<class 'src.tensor.Tensor'>\n",
      "(12, 24) (12, 24)\n",
      "<class 'src.tensor.Tensor'>\n",
      "(10, 24, 1) (10, 24, 1)\n"
     ]
    }
   ],
   "source": [
    "point = output.b.a.a.b.a\n",
    "\n",
    "print(point.shape, point.grad.shape)\n",
    "print(type(point.a))\n",
    "if point.a: print(point.a.shape, point.a.grad.shape)\n",
    "print(type(point.b))\n",
    "if point.b: print(point.b.shape, point.b.grad.shape)\n"
   ]
  },
  {
   "cell_type": "code",
   "execution_count": 1,
   "metadata": {},
   "outputs": [],
   "source": [
    "import pytest\n",
    "import numpy as np\n",
    "from src.tensor import Tensor\n",
    "from src.module import Module\n",
    "from src.functional import Linear, ReLU, Softmax, MSELoss\n",
    "from tests.util import get_numerical_gradient\n",
    "\n",
    "class MLP(Module):\n",
    "    def __init__(self):\n",
    "        self.fc1 = Linear(24, 12)\n",
    "        self.relu = ReLU()\n",
    "        self.fc2 = Linear(12,1)\n",
    "        self.softmax = Softmax()\n",
    "\n",
    "    def forward(self, x):\n",
    "        out = self.fc1(x)\n",
    "        out = self.relu(out)\n",
    "        out = self.fc2(out)\n",
    "        out = self.softmax(out)\n",
    "        # out = out.sum()\n",
    "        return out\n",
    "\n",
    "\n",
    "network = MLP()\n",
    "input_tensor = Tensor(np.random.randn(3,24,1))\n",
    "criterion = MSELoss()\n",
    "target = Tensor(np.zeros((3,1)))\n",
    "\n",
    "output = network(input_tensor)\n",
    "# loss = criterion(target, output)\n",
    "# loss.backwards()\n",
    "\n",
    "# parameters = network.parameters()\n",
    "\n",
    "# for name, parameter in parameters.items():\n",
    "#     numerical_gradient = get_numerical_gradient(network, input_tensor, parameter)\n",
    "#     analytical_gradient = parameter.grad\n",
    "\n",
    "\n",
    "#     print(\n",
    "#         'Parameter: {}\\n'.format(name),\n",
    "#         'Numerical: {}\\n'.format(numerical_gradient[0]),\n",
    "#         'Analytical: {}\\n'.format(analytical_gradient[1]),\n",
    "#     )\n",
    "#     # assert np.allclose(analytical_gradient, numerical_gradient, rtol=1e-4)\n"
   ]
  },
  {
   "cell_type": "code",
   "execution_count": 2,
   "metadata": {},
   "outputs": [
    {
     "ename": "ValueError",
     "evalue": "non-broadcastable output operand with shape () doesn't match the broadcast shape (3,1,1)",
     "output_type": "error",
     "traceback": [
      "\u001b[1;31m---------------------------------------------------------------------------\u001b[0m",
      "\u001b[1;31mValueError\u001b[0m                                Traceback (most recent call last)",
      "Cell \u001b[1;32mIn [2], line 5\u001b[0m\n\u001b[0;32m      2\u001b[0m target \u001b[39m=\u001b[39m Tensor(np\u001b[39m.\u001b[39mones(output\u001b[39m.\u001b[39mshape))\n\u001b[0;32m      4\u001b[0m loss \u001b[39m=\u001b[39mcriterion(target, preds)\n\u001b[1;32m----> 5\u001b[0m loss\u001b[39m.\u001b[39;49mbackwards()\n",
      "File \u001b[1;32mc:\\users\\rens\\repos\\nn\\nn\\src\\tensor.py:35\u001b[0m, in \u001b[0;36mTensor.backwards\u001b[1;34m(self, queue)\u001b[0m\n\u001b[0;32m     32\u001b[0m     queue \u001b[39m=\u001b[39m \u001b[39mself\u001b[39m\u001b[39m.\u001b[39madd_to_queue(\u001b[39mself\u001b[39m\u001b[39m.\u001b[39mb, queue)\n\u001b[0;32m     34\u001b[0m \u001b[39mif\u001b[39;00m queue:\n\u001b[1;32m---> 35\u001b[0m     queue[\u001b[39m0\u001b[39;49m]\u001b[39m.\u001b[39;49mbackwards(queue\u001b[39m=\u001b[39;49mqueue[\u001b[39m1\u001b[39;49m:])\n",
      "File \u001b[1;32mc:\\users\\rens\\repos\\nn\\nn\\src\\tensor.py:31\u001b[0m, in \u001b[0;36mTensor.backwards\u001b[1;34m(self, queue)\u001b[0m\n\u001b[0;32m     28\u001b[0m     queue \u001b[39m=\u001b[39m \u001b[39mself\u001b[39m\u001b[39m.\u001b[39madd_to_queue(\u001b[39mself\u001b[39m\u001b[39m.\u001b[39ma, queue)\n\u001b[0;32m     30\u001b[0m \u001b[39mif\u001b[39;00m \u001b[39mself\u001b[39m\u001b[39m.\u001b[39mb \u001b[39mis\u001b[39;00m \u001b[39mnot\u001b[39;00m \u001b[39mNone\u001b[39;00m:\n\u001b[1;32m---> 31\u001b[0m     \u001b[39mself\u001b[39;49m\u001b[39m.\u001b[39;49mbackpropagate_b()   \n\u001b[0;32m     32\u001b[0m     queue \u001b[39m=\u001b[39m \u001b[39mself\u001b[39m\u001b[39m.\u001b[39madd_to_queue(\u001b[39mself\u001b[39m\u001b[39m.\u001b[39mb, queue)\n\u001b[0;32m     34\u001b[0m \u001b[39mif\u001b[39;00m queue:\n",
      "File \u001b[1;32mc:\\users\\rens\\repos\\nn\\nn\\src\\tensor.py:190\u001b[0m, in \u001b[0;36mPow.backpropagate_b\u001b[1;34m(self)\u001b[0m\n\u001b[0;32m    188\u001b[0m \u001b[39mdef\u001b[39;00m \u001b[39mbackpropagate_b\u001b[39m(\u001b[39mself\u001b[39m):\n\u001b[0;32m    189\u001b[0m     gradient \u001b[39m=\u001b[39m np\u001b[39m.\u001b[39mlog(\u001b[39mself\u001b[39m\u001b[39m.\u001b[39ma\u001b[39m.\u001b[39mvalue) \u001b[39m*\u001b[39m \u001b[39mself\u001b[39m\u001b[39m.\u001b[39ma\u001b[39m.\u001b[39mvalue \u001b[39m*\u001b[39m\u001b[39m*\u001b[39m \u001b[39mself\u001b[39m\u001b[39m.\u001b[39mb\u001b[39m.\u001b[39mvalue \u001b[39m*\u001b[39m \u001b[39mself\u001b[39m\u001b[39m.\u001b[39mgrad\n\u001b[1;32m--> 190\u001b[0m     \u001b[39mself\u001b[39;49m\u001b[39m.\u001b[39;49mb\u001b[39m.\u001b[39;49madd_gradient(gradient)\n",
      "File \u001b[1;32mc:\\users\\rens\\repos\\nn\\nn\\src\\tensor.py:41\u001b[0m, in \u001b[0;36mTensor.add_gradient\u001b[1;34m(self, gradient_to_add)\u001b[0m\n\u001b[0;32m     39\u001b[0m     \u001b[39mself\u001b[39m\u001b[39m.\u001b[39mgrad \u001b[39m+\u001b[39m\u001b[39m=\u001b[39m gradient_to_add\u001b[39m.\u001b[39msum(axis\u001b[39m=\u001b[39m\u001b[39m-\u001b[39mgradient_to_add\u001b[39m.\u001b[39mndim)\n\u001b[0;32m     40\u001b[0m \u001b[39melse\u001b[39;00m:\n\u001b[1;32m---> 41\u001b[0m     \u001b[39mself\u001b[39m\u001b[39m.\u001b[39mgrad \u001b[39m+\u001b[39m\u001b[39m=\u001b[39m gradient_to_add\n",
      "\u001b[1;31mValueError\u001b[0m: non-broadcastable output operand with shape () doesn't match the broadcast shape (3,1,1)"
     ]
    }
   ],
   "source": [
    "preds = Tensor(np.random.random(output.shape))\n",
    "target = Tensor(np.ones(output.shape))\n",
    "\n",
    "loss =criterion(target, preds)\n",
    "loss.backwards()"
   ]
  },
  {
   "cell_type": "code",
   "execution_count": 14,
   "metadata": {},
   "outputs": [
    {
     "name": "stdout",
     "output_type": "stream",
     "text": [
      "(3, 1, 1)\n",
      "Add\n",
      "a: Tensor [[[0.]]\n",
      "\n",
      " [[0.]]\n",
      "\n",
      " [[0.]]]\n",
      "b: Mul [[[0.]]\n",
      "\n",
      " [[0.]]\n",
      "\n",
      " [[0.]]]\n"
     ]
    }
   ],
   "source": [
    "point = loss.a.a\n",
    "\n",
    "print(point.shape)\n",
    "print(type(point).__name__)\n",
    "print('a: ' + type(point.a).__name__, point.a.grad)\n",
    "print('b: ' + type(point.b).__name__, point.b.grad)\n",
    "\n",
    "# point.a.value.T @ point.grad\n",
    "# point.grad @ point.b.value.swapaxes(-2,-1)"
   ]
  },
  {
   "cell_type": "code",
   "execution_count": 20,
   "metadata": {},
   "outputs": [
    {
     "data": {
      "text/plain": [
       "(3, 1, 1)"
      ]
     },
     "execution_count": 20,
     "metadata": {},
     "output_type": "execute_result"
    }
   ],
   "source": []
  },
  {
   "cell_type": "code",
   "execution_count": 11,
   "metadata": {},
   "outputs": [
    {
     "data": {
      "text/plain": [
       "(10, 24, 1)"
      ]
     },
     "execution_count": 11,
     "metadata": {},
     "output_type": "execute_result"
    }
   ],
   "source": [
    "point.b.value.shape"
   ]
  },
  {
   "cell_type": "code",
   "execution_count": 90,
   "metadata": {},
   "outputs": [
    {
     "name": "stdout",
     "output_type": "stream",
     "text": [
      "(10, 1)\n",
      "Dot\n",
      "a: Tensor\n",
      "b: Tensor\n"
     ]
    },
    {
     "data": {
      "text/plain": [
       "array([[0., 0., 0., 0., 0., 0., 0., 0., 0., 0., 0., 0., 0., 0., 0., 0.,\n",
       "        0., 0., 0., 0., 0., 0., 0., 0.],\n",
       "       [0., 0., 0., 0., 0., 0., 0., 0., 0., 0., 0., 0., 0., 0., 0., 0.,\n",
       "        0., 0., 0., 0., 0., 0., 0., 0.],\n",
       "       [0., 0., 0., 0., 0., 0., 0., 0., 0., 0., 0., 0., 0., 0., 0., 0.,\n",
       "        0., 0., 0., 0., 0., 0., 0., 0.],\n",
       "       [0., 0., 0., 0., 0., 0., 0., 0., 0., 0., 0., 0., 0., 0., 0., 0.,\n",
       "        0., 0., 0., 0., 0., 0., 0., 0.],\n",
       "       [0., 0., 0., 0., 0., 0., 0., 0., 0., 0., 0., 0., 0., 0., 0., 0.,\n",
       "        0., 0., 0., 0., 0., 0., 0., 0.],\n",
       "       [0., 0., 0., 0., 0., 0., 0., 0., 0., 0., 0., 0., 0., 0., 0., 0.,\n",
       "        0., 0., 0., 0., 0., 0., 0., 0.],\n",
       "       [0., 0., 0., 0., 0., 0., 0., 0., 0., 0., 0., 0., 0., 0., 0., 0.,\n",
       "        0., 0., 0., 0., 0., 0., 0., 0.],\n",
       "       [0., 0., 0., 0., 0., 0., 0., 0., 0., 0., 0., 0., 0., 0., 0., 0.,\n",
       "        0., 0., 0., 0., 0., 0., 0., 0.],\n",
       "       [0., 0., 0., 0., 0., 0., 0., 0., 0., 0., 0., 0., 0., 0., 0., 0.,\n",
       "        0., 0., 0., 0., 0., 0., 0., 0.],\n",
       "       [0., 0., 0., 0., 0., 0., 0., 0., 0., 0., 0., 0., 0., 0., 0., 0.,\n",
       "        0., 0., 0., 0., 0., 0., 0., 0.]])"
      ]
     },
     "execution_count": 90,
     "metadata": {},
     "output_type": "execute_result"
    }
   ],
   "source": [
    "point = output.a\n",
    "\n",
    "print(point.shape)\n",
    "print(type(point).__name__)\n",
    "print('a: ' + type(point.a).__name__)\n",
    "print('b: ' + type(point.b).__name__)\n",
    "\n",
    "# point.a.value.T @ point.grad\n",
    "point.grad @ point.b.value.swapaxes(-2,-1)"
   ]
  },
  {
   "cell_type": "code",
   "execution_count": 72,
   "metadata": {},
   "outputs": [
    {
     "data": {
      "text/plain": [
       "(10, 1)"
      ]
     },
     "execution_count": 72,
     "metadata": {},
     "output_type": "execute_result"
    }
   ],
   "source": [
    "point.grad.shape"
   ]
  },
  {
   "cell_type": "code",
   "execution_count": 73,
   "metadata": {},
   "outputs": [
    {
     "data": {
      "text/plain": [
       "(1, 24)"
      ]
     },
     "execution_count": 73,
     "metadata": {},
     "output_type": "execute_result"
    }
   ],
   "source": [
    "point.b.value.T.shape"
   ]
  },
  {
   "cell_type": "code",
   "execution_count": 68,
   "metadata": {},
   "outputs": [
    {
     "data": {
      "text/plain": [
       "(10, 10, 1)"
      ]
     },
     "execution_count": 68,
     "metadata": {},
     "output_type": "execute_result"
    }
   ],
   "source": [
    "point.grad.shape"
   ]
  },
  {
   "cell_type": "code",
   "execution_count": 69,
   "metadata": {},
   "outputs": [
    {
     "data": {
      "text/plain": [
       "(1, 24, 10)"
      ]
     },
     "execution_count": 69,
     "metadata": {},
     "output_type": "execute_result"
    }
   ],
   "source": [
    "point.b.value.T.shape"
   ]
  },
  {
   "cell_type": "code",
   "execution_count": 52,
   "metadata": {},
   "outputs": [
    {
     "data": {
      "text/plain": [
       "(10, 10, 1)"
      ]
     },
     "execution_count": 52,
     "metadata": {},
     "output_type": "execute_result"
    }
   ],
   "source": [
    "output.a.shape"
   ]
  },
  {
   "cell_type": "code",
   "execution_count": 74,
   "metadata": {},
   "outputs": [
    {
     "data": {
      "text/plain": [
       "(10, 24)"
      ]
     },
     "execution_count": 74,
     "metadata": {},
     "output_type": "execute_result"
    }
   ],
   "source": [
    "output.a.a.grad.shape"
   ]
  },
  {
   "cell_type": "code",
   "execution_count": 146,
   "metadata": {},
   "outputs": [
    {
     "data": {
      "text/plain": [
       "array([[0., 0., 0., 0., 0., 0., 0., 0., 0., 0., 0., 0., 0., 0., 0., 0.,\n",
       "        0., 0., 0., 0., 0., 0., 0., 0.],\n",
       "       [0., 0., 0., 0., 0., 0., 0., 0., 0., 0., 0., 0., 0., 0., 0., 0.,\n",
       "        0., 0., 0., 0., 0., 0., 0., 0.],\n",
       "       [0., 0., 0., 0., 0., 0., 0., 0., 0., 0., 0., 0., 0., 0., 0., 0.,\n",
       "        0., 0., 0., 0., 0., 0., 0., 0.],\n",
       "       [0., 0., 0., 0., 0., 0., 0., 0., 0., 0., 0., 0., 0., 0., 0., 0.,\n",
       "        0., 0., 0., 0., 0., 0., 0., 0.],\n",
       "       [0., 0., 0., 0., 0., 0., 0., 0., 0., 0., 0., 0., 0., 0., 0., 0.,\n",
       "        0., 0., 0., 0., 0., 0., 0., 0.],\n",
       "       [0., 0., 0., 0., 0., 0., 0., 0., 0., 0., 0., 0., 0., 0., 0., 0.,\n",
       "        0., 0., 0., 0., 0., 0., 0., 0.],\n",
       "       [0., 0., 0., 0., 0., 0., 0., 0., 0., 0., 0., 0., 0., 0., 0., 0.,\n",
       "        0., 0., 0., 0., 0., 0., 0., 0.],\n",
       "       [0., 0., 0., 0., 0., 0., 0., 0., 0., 0., 0., 0., 0., 0., 0., 0.,\n",
       "        0., 0., 0., 0., 0., 0., 0., 0.],\n",
       "       [0., 0., 0., 0., 0., 0., 0., 0., 0., 0., 0., 0., 0., 0., 0., 0.,\n",
       "        0., 0., 0., 0., 0., 0., 0., 0.],\n",
       "       [0., 0., 0., 0., 0., 0., 0., 0., 0., 0., 0., 0., 0., 0., 0., 0.,\n",
       "        0., 0., 0., 0., 0., 0., 0., 0.]])"
      ]
     },
     "execution_count": 146,
     "metadata": {},
     "output_type": "execute_result"
    }
   ],
   "source": [
    "numerical_gradient"
   ]
  },
  {
   "cell_type": "code",
   "execution_count": 125,
   "metadata": {},
   "outputs": [],
   "source": [
    "output = network(input)\n",
    "output.backwards()"
   ]
  },
  {
   "cell_type": "code",
   "execution_count": 126,
   "metadata": {},
   "outputs": [
    {
     "data": {
      "text/plain": [
       "array([[False, False, False, False, False, False, False, False, False,\n",
       "        False, False, False, False, False, False, False, False, False,\n",
       "        False, False, False, False, False, False],\n",
       "       [ True,  True,  True,  True,  True,  True,  True,  True,  True,\n",
       "         True,  True,  True,  True,  True,  True,  True,  True,  True,\n",
       "         True,  True,  True,  True,  True,  True],\n",
       "       [ True,  True,  True,  True,  True,  True,  True,  True,  True,\n",
       "         True,  True,  True,  True,  True,  True,  True,  True,  True,\n",
       "         True,  True,  True,  True,  True,  True],\n",
       "       [False, False, False, False, False, False, False, False, False,\n",
       "        False, False, False, False, False, False, False, False, False,\n",
       "        False, False, False, False, False, False],\n",
       "       [False, False, False, False, False, False, False, False, False,\n",
       "        False, False, False, False, False, False, False, False, False,\n",
       "        False, False, False, False, False, False],\n",
       "       [ True,  True,  True,  True,  True,  True,  True,  True,  True,\n",
       "         True,  True,  True,  True,  True,  True,  True,  True,  True,\n",
       "         True,  True,  True,  True,  True,  True],\n",
       "       [False, False, False, False, False, False,  True, False, False,\n",
       "        False, False, False, False, False, False, False, False, False,\n",
       "        False, False, False, False, False, False],\n",
       "       [False, False, False, False, False, False,  True, False, False,\n",
       "        False, False, False, False, False, False, False, False, False,\n",
       "        False, False, False, False, False, False],\n",
       "       [False, False, False, False, False, False, False, False, False,\n",
       "        False, False, False, False, False, False, False, False, False,\n",
       "        False, False, False, False, False, False],\n",
       "       [ True,  True,  True,  True,  True,  True,  True,  True,  True,\n",
       "         True,  True,  True,  True,  True,  True,  True,  True,  True,\n",
       "         True,  True,  True,  True,  True,  True]])"
      ]
     },
     "execution_count": 126,
     "metadata": {},
     "output_type": "execute_result"
    }
   ],
   "source": [
    "np.isclose(network.fc1.weights.grad, numerical_gradient, atol=1e-1)"
   ]
  },
  {
   "cell_type": "code",
   "execution_count": 117,
   "metadata": {},
   "outputs": [
    {
     "data": {
      "text/plain": [
       "array([[ 0.00000000e+00,  0.00000000e+00,  0.00000000e+00,\n",
       "         0.00000000e+00,  0.00000000e+00,  0.00000000e+00,\n",
       "         0.00000000e+00,  0.00000000e+00,  0.00000000e+00,\n",
       "         0.00000000e+00,  0.00000000e+00,  0.00000000e+00,\n",
       "         0.00000000e+00,  0.00000000e+00,  0.00000000e+00,\n",
       "         0.00000000e+00,  0.00000000e+00,  0.00000000e+00,\n",
       "         0.00000000e+00,  0.00000000e+00,  0.00000000e+00,\n",
       "         0.00000000e+00,  0.00000000e+00,  0.00000000e+00],\n",
       "       [ 0.00000000e+00,  0.00000000e+00,  0.00000000e+00,\n",
       "         0.00000000e+00,  0.00000000e+00,  0.00000000e+00,\n",
       "         0.00000000e+00,  0.00000000e+00,  0.00000000e+00,\n",
       "         0.00000000e+00,  0.00000000e+00,  0.00000000e+00,\n",
       "         0.00000000e+00,  0.00000000e+00,  0.00000000e+00,\n",
       "         0.00000000e+00,  0.00000000e+00,  0.00000000e+00,\n",
       "         0.00000000e+00,  0.00000000e+00,  0.00000000e+00,\n",
       "         0.00000000e+00,  0.00000000e+00,  0.00000000e+00],\n",
       "       [ 0.00000000e+00,  0.00000000e+00,  0.00000000e+00,\n",
       "         0.00000000e+00,  0.00000000e+00,  0.00000000e+00,\n",
       "         0.00000000e+00,  0.00000000e+00,  0.00000000e+00,\n",
       "         0.00000000e+00,  0.00000000e+00,  0.00000000e+00,\n",
       "         0.00000000e+00,  0.00000000e+00,  0.00000000e+00,\n",
       "         0.00000000e+00,  0.00000000e+00,  0.00000000e+00,\n",
       "         0.00000000e+00,  0.00000000e+00,  0.00000000e+00,\n",
       "         0.00000000e+00,  0.00000000e+00,  0.00000000e+00],\n",
       "       [ 0.00000000e+00,  0.00000000e+00,  0.00000000e+00,\n",
       "         0.00000000e+00,  0.00000000e+00,  0.00000000e+00,\n",
       "         0.00000000e+00,  0.00000000e+00,  0.00000000e+00,\n",
       "         0.00000000e+00,  0.00000000e+00,  0.00000000e+00,\n",
       "         0.00000000e+00,  0.00000000e+00,  0.00000000e+00,\n",
       "         0.00000000e+00,  0.00000000e+00,  0.00000000e+00,\n",
       "         0.00000000e+00,  0.00000000e+00,  0.00000000e+00,\n",
       "         0.00000000e+00,  0.00000000e+00,  0.00000000e+00],\n",
       "       [ 1.40452930e-03, -1.24383563e-03,  3.24391576e-03,\n",
       "        -1.75414904e-03, -1.69537889e-03, -1.80364441e-03,\n",
       "         1.45158063e-04,  8.32600442e-03, -2.09260806e-04,\n",
       "         6.64430649e-03,  1.19183627e-03,  3.14783845e-04,\n",
       "         3.12623723e-03,  3.70699133e-03,  4.96079633e-03,\n",
       "         3.80973964e-03,  1.41441454e-03,  5.58120635e-04,\n",
       "        -1.16662992e-03, -4.27152011e-03,  3.10705154e-03,\n",
       "        -3.27973040e-03, -6.81854103e-03, -2.81596313e-04],\n",
       "       [-2.91210308e-03, -1.48678907e-02, -8.77071948e-03,\n",
       "         7.93223702e-04, -7.54119192e-03,  2.40005915e-03,\n",
       "        -2.43447067e-03,  2.26095306e-04,  1.70771301e-03,\n",
       "         4.85176688e-04,  4.19635444e-03, -2.50649130e-03,\n",
       "         3.38622674e-03,  3.86222425e-03,  5.40057057e-04,\n",
       "        -5.44251701e-04,  9.93724943e-03, -2.41905180e-03,\n",
       "         1.78498666e-04, -2.46510534e-04,  7.54862658e-03,\n",
       "        -2.01645814e-03,  5.63844367e-03, -1.85989655e-03],\n",
       "       [ 0.00000000e+00,  0.00000000e+00,  0.00000000e+00,\n",
       "         0.00000000e+00,  0.00000000e+00,  0.00000000e+00,\n",
       "         0.00000000e+00,  0.00000000e+00,  0.00000000e+00,\n",
       "         0.00000000e+00,  0.00000000e+00,  0.00000000e+00,\n",
       "         0.00000000e+00,  0.00000000e+00,  0.00000000e+00,\n",
       "         0.00000000e+00,  0.00000000e+00,  0.00000000e+00,\n",
       "         0.00000000e+00,  0.00000000e+00,  0.00000000e+00,\n",
       "         0.00000000e+00,  0.00000000e+00,  0.00000000e+00],\n",
       "       [ 5.27372075e-03,  8.75182766e-03,  6.25911975e-03,\n",
       "        -6.41290311e-04, -1.11604087e-03, -2.34400214e-03,\n",
       "         1.98402706e-03, -2.47013956e-03,  1.77567250e-03,\n",
       "         4.13149813e-03,  1.22588665e-05, -2.37166531e-03,\n",
       "        -4.38639707e-03,  4.34450288e-03, -4.78934495e-03,\n",
       "         4.97231889e-04,  5.94023973e-04,  2.93889024e-03,\n",
       "        -1.10968607e-03,  2.49730109e-03,  6.48070136e-03,\n",
       "        -4.05228593e-03,  4.34383023e-04,  2.29867937e-03],\n",
       "       [-1.14959797e-03,  2.82445242e-03,  8.21950487e-03,\n",
       "         5.04087317e-03,  6.77017356e-03, -1.50760035e-03,\n",
       "         1.87860050e-03, -2.58192923e-03, -2.82723186e-03,\n",
       "         4.62593673e-03,  5.11952623e-04,  5.31146891e-03,\n",
       "         4.46372946e-03,  3.39309767e-03,  8.68364888e-03,\n",
       "         1.34432789e-05,  5.07295854e-03,  3.69056653e-03,\n",
       "         2.82416938e-03,  3.30718264e-03, -3.02747286e-03,\n",
       "        -1.44050614e-03, -6.68695047e-03,  2.02762597e-03],\n",
       "       [ 0.00000000e+00,  0.00000000e+00,  0.00000000e+00,\n",
       "         0.00000000e+00,  0.00000000e+00,  0.00000000e+00,\n",
       "         0.00000000e+00,  0.00000000e+00,  0.00000000e+00,\n",
       "         0.00000000e+00,  0.00000000e+00,  0.00000000e+00,\n",
       "         0.00000000e+00,  0.00000000e+00,  0.00000000e+00,\n",
       "         0.00000000e+00,  0.00000000e+00,  0.00000000e+00,\n",
       "         0.00000000e+00,  0.00000000e+00,  0.00000000e+00,\n",
       "         0.00000000e+00,  0.00000000e+00,  0.00000000e+00]])"
      ]
     },
     "execution_count": 117,
     "metadata": {},
     "output_type": "execute_result"
    }
   ],
   "source": [
    "(network.fc1.weights.grad - numerical_gradient)"
   ]
  },
  {
   "cell_type": "code",
   "execution_count": null,
   "metadata": {},
   "outputs": [],
   "source": []
  }
 ],
 "metadata": {
  "kernelspec": {
   "display_name": "Python 3.10.4 ('nn')",
   "language": "python",
   "name": "python3"
  },
  "language_info": {
   "codemirror_mode": {
    "name": "ipython",
    "version": 3
   },
   "file_extension": ".py",
   "mimetype": "text/x-python",
   "name": "python",
   "nbconvert_exporter": "python",
   "pygments_lexer": "ipython3",
   "version": "3.10.4"
  },
  "orig_nbformat": 4,
  "vscode": {
   "interpreter": {
    "hash": "c5adc4ccc9e96b1b3469789a58e2da178855233ea4ef51c15a8087023f712348"
   }
  }
 },
 "nbformat": 4,
 "nbformat_minor": 2
}
