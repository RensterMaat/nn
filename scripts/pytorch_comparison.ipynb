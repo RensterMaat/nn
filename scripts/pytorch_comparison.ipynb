{
 "cells": [
  {
   "cell_type": "code",
   "execution_count": 1,
   "metadata": {},
   "outputs": [],
   "source": [
    "import numpy as np\n",
    "from src.tensor import Tensor\n",
    "from src.module import Module\n",
    "from src.functional import Linear, ReLU, Softmax\n",
    "\n",
    "class MLP(Module):\n",
    "    def __init__(self):\n",
    "        self.fc1 = Linear(24, 10)\n",
    "        self.relu = ReLU()\n",
    "        self.fc2 = Linear(10,10)\n",
    "        self.softmax = Softmax()\n",
    "\n",
    "    def forward(self, x):\n",
    "        out = self.fc1(x)\n",
    "        # out = self.relu(out)\n",
    "        # out = self.fc2(x)\n",
    "        # out = self.softmax(out)\n",
    "        return out\n",
    "\n",
    "network = MLP()\n",
    "input = Tensor(np.random.randn(24,1))\n",
    "\n",
    "output = network(input)"
   ]
  },
  {
   "cell_type": "code",
   "execution_count": 3,
   "metadata": {},
   "outputs": [
    {
     "data": {
      "text/plain": [
       "{'fc1__weights': <src.tensor.Tensor at 0x2b3653bbd90>,\n",
       " 'fc1__bias': <src.tensor.Tensor at 0x2b3653bbdf0>,\n",
       " 'fc2__weights': <src.tensor.Tensor at 0x2b3653bbeb0>,\n",
       " 'fc2__bias': <src.tensor.Tensor at 0x2b3653bbf10>}"
      ]
     },
     "execution_count": 3,
     "metadata": {},
     "output_type": "execute_result"
    }
   ],
   "source": [
    "network.parameters()"
   ]
  },
  {
   "cell_type": "code",
   "execution_count": 32,
   "metadata": {},
   "outputs": [],
   "source": [
    "import numpy as np\n",
    "\n",
    "vector = np.random.randn(5,1)\n",
    "matrix = np.random.randn(5,4)\n",
    "tensor = np.random.randn(2,5,4)"
   ]
  },
  {
   "cell_type": "code",
   "execution_count": 34,
   "metadata": {},
   "outputs": [
    {
     "name": "stdout",
     "output_type": "stream",
     "text": [
      "(4, 3)\n",
      "(4, 3)\n",
      "(2, 4, 3)\n"
     ]
    }
   ],
   "source": [
    "def function_with_dot_product(arg):\n",
    "    out = np.random.uniform(size=(4,arg.shape[-2])) @ arg\n",
    "    out = out @ np.random.uniform(1,2, size=(out.shape[-1], 3))\n",
    "\n",
    "    return out\n",
    "\n",
    "function_with_dot_product(vector)\n",
    "function_with_dot_product(matrix)\n",
    "function_with_dot_product(tensor)"
   ]
  },
  {
   "cell_type": "code",
   "execution_count": 23,
   "metadata": {},
   "outputs": [
    {
     "data": {
      "text/plain": [
       "array([[ 0.46657937],\n",
       "       [-1.06747515],\n",
       "       [ 0.43454411],\n",
       "       [ 0.98067979],\n",
       "       [ 0.46788409]])"
      ]
     },
     "execution_count": 23,
     "metadata": {},
     "output_type": "execute_result"
    }
   ],
   "source": [
    "vector"
   ]
  },
  {
   "cell_type": "code",
   "execution_count": 24,
   "metadata": {},
   "outputs": [
    {
     "data": {
      "text/plain": [
       "array([[ 0.49155278,  0.66703122,  1.5505502 ,  0.32014464],\n",
       "       [-0.76367892,  2.12405647, -0.14832194,  2.30389585],\n",
       "       [-2.30203472,  0.1082821 ,  1.74671395,  3.21449392],\n",
       "       [-0.80147595,  0.63913096, -0.7313728 , -1.25511938],\n",
       "       [ 1.43399429, -1.31954276, -1.19711042,  0.56200666]])"
      ]
     },
     "execution_count": 24,
     "metadata": {},
     "output_type": "execute_result"
    }
   ],
   "source": [
    "matrix"
   ]
  },
  {
   "cell_type": "code",
   "execution_count": null,
   "metadata": {},
   "outputs": [],
   "source": []
  }
 ],
 "metadata": {
  "kernelspec": {
   "display_name": "Python 3.10.4 ('nn')",
   "language": "python",
   "name": "python3"
  },
  "language_info": {
   "codemirror_mode": {
    "name": "ipython",
    "version": 3
   },
   "file_extension": ".py",
   "mimetype": "text/x-python",
   "name": "python",
   "nbconvert_exporter": "python",
   "pygments_lexer": "ipython3",
   "version": "3.10.4"
  },
  "orig_nbformat": 4,
  "vscode": {
   "interpreter": {
    "hash": "c5adc4ccc9e96b1b3469789a58e2da178855233ea4ef51c15a8087023f712348"
   }
  }
 },
 "nbformat": 4,
 "nbformat_minor": 2
}
