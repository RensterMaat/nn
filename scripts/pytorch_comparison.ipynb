{
 "cells": [
  {
   "cell_type": "code",
   "execution_count": 35,
   "metadata": {},
   "outputs": [
    {
     "ename": "ImportError",
     "evalue": "cannot import name 'Tensor' from partially initialized module 'src.tensor' (most likely due to a circular import) (c:\\users\\rens\\repos\\nn\\nn\\src\\tensor.py)",
     "output_type": "error",
     "traceback": [
      "\u001b[1;31m---------------------------------------------------------------------------\u001b[0m",
      "\u001b[1;31mImportError\u001b[0m                               Traceback (most recent call last)",
      "Cell \u001b[1;32mIn [35], line 1\u001b[0m\n\u001b[1;32m----> 1\u001b[0m \u001b[39mfrom\u001b[39;00m \u001b[39msrc\u001b[39;00m\u001b[39m.\u001b[39;00m\u001b[39mtensor\u001b[39;00m \u001b[39mimport\u001b[39;00m Tensor\n",
      "File \u001b[1;32mc:\\users\\rens\\repos\\nn\\nn\\src\\tensor.py:2\u001b[0m\n\u001b[0;32m      1\u001b[0m \u001b[39mimport\u001b[39;00m \u001b[39mnumpy\u001b[39;00m \u001b[39mas\u001b[39;00m \u001b[39mnp\u001b[39;00m\n\u001b[1;32m----> 2\u001b[0m \u001b[39mfrom\u001b[39;00m \u001b[39msrc\u001b[39;00m\u001b[39m.\u001b[39;00m\u001b[39moperator\u001b[39;00m \u001b[39mimport\u001b[39;00m Add, Mul, Sum, Dot, Pow\n\u001b[0;32m      4\u001b[0m \u001b[39mclass\u001b[39;00m \u001b[39mTensor\u001b[39;00m:\n\u001b[0;32m      5\u001b[0m     \u001b[39mdef\u001b[39;00m \u001b[39m__init__\u001b[39m(\u001b[39mself\u001b[39m, value):\n",
      "File \u001b[1;32mc:\\users\\rens\\repos\\nn\\nn\\src\\operator.py:2\u001b[0m\n\u001b[0;32m      1\u001b[0m \u001b[39mimport\u001b[39;00m \u001b[39mnumpy\u001b[39;00m \u001b[39mas\u001b[39;00m \u001b[39mnp\u001b[39;00m\n\u001b[1;32m----> 2\u001b[0m \u001b[39mfrom\u001b[39;00m \u001b[39msrc\u001b[39;00m\u001b[39m.\u001b[39;00m\u001b[39mtensor\u001b[39;00m \u001b[39mimport\u001b[39;00m Tensor\n\u001b[0;32m      5\u001b[0m \u001b[39mclass\u001b[39;00m \u001b[39mAdd\u001b[39;00m(Tensor):\n\u001b[0;32m      6\u001b[0m     \u001b[39mdef\u001b[39;00m \u001b[39m__init__\u001b[39m(\u001b[39mself\u001b[39m, a, b):\n",
      "\u001b[1;31mImportError\u001b[0m: cannot import name 'Tensor' from partially initialized module 'src.tensor' (most likely due to a circular import) (c:\\users\\rens\\repos\\nn\\nn\\src\\tensor.py)"
     ]
    }
   ],
   "source": [
    "from src.tensor import Tensor"
   ]
  },
  {
   "cell_type": "code",
   "execution_count": 32,
   "metadata": {},
   "outputs": [],
   "source": [
    "import numpy as np\n",
    "\n",
    "vector = np.random.randn(5,1)\n",
    "matrix = np.random.randn(5,4)\n",
    "tensor = np.random.randn(2,5,4)"
   ]
  },
  {
   "cell_type": "code",
   "execution_count": 34,
   "metadata": {},
   "outputs": [
    {
     "name": "stdout",
     "output_type": "stream",
     "text": [
      "(4, 3)\n",
      "(4, 3)\n",
      "(2, 4, 3)\n"
     ]
    }
   ],
   "source": [
    "def function_with_dot_product(arg):\n",
    "    out = np.random.uniform(size=(4,arg.shape[-2])) @ arg\n",
    "    out = out @ np.random.uniform(1,2, size=(out.shape[-1], 3))\n",
    "\n",
    "    return out\n",
    "\n",
    "function_with_dot_product(vector)\n",
    "function_with_dot_product(matrix)\n",
    "function_with_dot_product(tensor)"
   ]
  },
  {
   "cell_type": "code",
   "execution_count": 23,
   "metadata": {},
   "outputs": [
    {
     "data": {
      "text/plain": [
       "array([[ 0.46657937],\n",
       "       [-1.06747515],\n",
       "       [ 0.43454411],\n",
       "       [ 0.98067979],\n",
       "       [ 0.46788409]])"
      ]
     },
     "execution_count": 23,
     "metadata": {},
     "output_type": "execute_result"
    }
   ],
   "source": [
    "vector"
   ]
  },
  {
   "cell_type": "code",
   "execution_count": 24,
   "metadata": {},
   "outputs": [
    {
     "data": {
      "text/plain": [
       "array([[ 0.49155278,  0.66703122,  1.5505502 ,  0.32014464],\n",
       "       [-0.76367892,  2.12405647, -0.14832194,  2.30389585],\n",
       "       [-2.30203472,  0.1082821 ,  1.74671395,  3.21449392],\n",
       "       [-0.80147595,  0.63913096, -0.7313728 , -1.25511938],\n",
       "       [ 1.43399429, -1.31954276, -1.19711042,  0.56200666]])"
      ]
     },
     "execution_count": 24,
     "metadata": {},
     "output_type": "execute_result"
    }
   ],
   "source": [
    "matrix"
   ]
  },
  {
   "cell_type": "code",
   "execution_count": null,
   "metadata": {},
   "outputs": [],
   "source": []
  }
 ],
 "metadata": {
  "kernelspec": {
   "display_name": "Python 3.10.4 ('nn')",
   "language": "python",
   "name": "python3"
  },
  "language_info": {
   "codemirror_mode": {
    "name": "ipython",
    "version": 3
   },
   "file_extension": ".py",
   "mimetype": "text/x-python",
   "name": "python",
   "nbconvert_exporter": "python",
   "pygments_lexer": "ipython3",
   "version": "3.10.4"
  },
  "orig_nbformat": 4,
  "vscode": {
   "interpreter": {
    "hash": "c5adc4ccc9e96b1b3469789a58e2da178855233ea4ef51c15a8087023f712348"
   }
  }
 },
 "nbformat": 4,
 "nbformat_minor": 2
}
