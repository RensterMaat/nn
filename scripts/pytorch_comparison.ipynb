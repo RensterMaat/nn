{
 "cells": [
  {
   "cell_type": "code",
   "execution_count": 14,
   "metadata": {},
   "outputs": [],
   "source": [
    "import numpy as np\n",
    "from src.tensor import Tensor \n",
    "from src.module import Module\n",
    "from src.functional import Linear, ReLU, Softmax\n",
    "\n",
    "class MLP(Module):\n",
    "    def __init__(self):\n",
    "        self.fc1 = Linear(24, 12, bias=True)\n",
    "        self.relu = ReLU()\n",
    "        self.fc2 = Linear(12,6)\n",
    "        self.softmax = Softmax()\n",
    "\n",
    "    def forward(self, x):\n",
    "        out = self.fc1(x)\n",
    "        # out = self.relu(out)\n",
    "        out = self.fc2(out)\n",
    "        # out = self.softmax(out)\n",
    "        out = out.sum()\n",
    "        return out\n",
    "\n",
    "network = MLP()\n",
    "input = Tensor(np.random.randn(10,24, 1))\n",
    "output = network(input)\n",
    "\n",
    "output.backwards()"
   ]
  },
  {
   "cell_type": "code",
   "execution_count": 15,
   "metadata": {},
   "outputs": [
    {
     "name": "stdout",
     "output_type": "stream",
     "text": [
      "fc1__weights\n",
      "(12, 24)\n",
      "(12, 24)\n",
      "fc1__bias\n",
      "(12, 1)\n",
      "(12, 1)\n",
      "fc2__weights\n",
      "(6, 12)\n",
      "(6, 12)\n",
      "fc2__bias\n",
      "(6, 1)\n",
      "(6, 1)\n"
     ]
    }
   ],
   "source": [
    "for name, param in network.parameters().items():\n",
    "    print(name)\n",
    "    print(param.shape)\n",
    "    print(param.grad.shape)"
   ]
  },
  {
   "cell_type": "code",
   "execution_count": 19,
   "metadata": {},
   "outputs": [],
   "source": [
    "zero_grad = np.zeros(param.shape)\n",
    "grad = param.grad"
   ]
  },
  {
   "cell_type": "code",
   "execution_count": 25,
   "metadata": {},
   "outputs": [
    {
     "data": {
      "text/plain": [
       "(6, 1)"
      ]
     },
     "execution_count": 25,
     "metadata": {},
     "output_type": "execute_result"
    }
   ],
   "source": [
    "zero_grad.shape"
   ]
  },
  {
   "cell_type": "code",
   "execution_count": 2,
   "metadata": {},
   "outputs": [
    {
     "name": "stdout",
     "output_type": "stream",
     "text": [
      "(10, 12, 1) (10, 12, 1)\n",
      "<class 'src.tensor.Tensor'>\n",
      "(12, 24) (12, 24)\n",
      "<class 'src.tensor.Tensor'>\n",
      "(10, 24, 1) (10, 24, 1)\n"
     ]
    }
   ],
   "source": [
    "point = output.b.a.a.b.a\n",
    "\n",
    "print(point.shape, point.grad.shape)\n",
    "print(type(point.a))\n",
    "if point.a: print(point.a.shape, point.a.grad.shape)\n",
    "print(type(point.b))\n",
    "if point.b: print(point.b.shape, point.b.grad.shape)\n"
   ]
  },
  {
   "cell_type": "code",
   "execution_count": 1,
   "metadata": {},
   "outputs": [
    {
     "name": "stdout",
     "output_type": "stream",
     "text": [
      "Parameter: fc1__weights\n",
      " Numerical: [ 1.12245707 -0.94245557 -1.06058313 -0.52065496  0.53291607 -3.74327464\n",
      "  2.10633105  0.89070619 -1.8108125  -0.48625615  1.09073584 -2.70428622\n",
      "  0.19360515  1.23849575 -0.87455583 -1.30768025  0.04221979 -0.73104656\n",
      " -0.17754166  0.95969114  1.49005514  0.94041646 -2.51642308  1.13239156]\n",
      " Analytical: [0. 0. 0. 0. 0. 0. 0. 0. 0. 0. 0. 0. 0. 0. 0. 0. 0. 0. 0. 0. 0. 0. 0. 0.]\n",
      "\n",
      "Parameter: fc1__bias\n",
      " Numerical: [-1.28946115]\n",
      " Analytical: [0.]\n",
      "\n",
      "Parameter: fc2__weights\n",
      " Numerical: [0.60421479 0.         1.77703772 0.         5.23313441 1.92193524\n",
      " 0.         9.5745611  4.43730367 0.         2.18493934 7.19739712]\n",
      " Analytical: [0.60421478 0.         1.77703772 0.         5.23313441 1.92193524\n",
      " 0.         9.5745611  4.43730367 0.         2.18493934 7.19739713]\n",
      "\n",
      "Parameter: fc2__bias\n",
      " Numerical: [3.]\n",
      " Analytical: [3.]\n",
      "\n"
     ]
    }
   ],
   "source": [
    "import pytest\n",
    "import numpy as np\n",
    "from src.tensor import Tensor\n",
    "from src.module import Module\n",
    "from src.functional import Linear, ReLU, Softmax\n",
    "from tests.util import get_numerical_gradient\n",
    "\n",
    "class MLP(Module):\n",
    "    def __init__(self):\n",
    "        self.fc1 = Linear(24, 12)\n",
    "        self.relu = ReLU()\n",
    "        self.fc2 = Linear(12,3)\n",
    "        self.softmax = Softmax()\n",
    "\n",
    "    def forward(self, x):\n",
    "        out = self.fc1(x)\n",
    "        out = self.relu(out)\n",
    "        out = self.fc2(out)\n",
    "        # out = self.softmax(out)\n",
    "        out = out.sum()\n",
    "        return out\n",
    "\n",
    "\n",
    "network = MLP()\n",
    "input_tensor = Tensor(np.random.randn(3,24,1))\n",
    "\n",
    "output = network(input_tensor)\n",
    "output.backwards()\n",
    "\n",
    "parameters = network.parameters()\n",
    "\n",
    "for name, parameter in parameters.items():\n",
    "    numerical_gradient = get_numerical_gradient(network, input_tensor, parameter)\n",
    "    analytical_gradient = parameter.grad\n",
    "\n",
    "\n",
    "    print(\n",
    "        'Parameter: {}\\n'.format(name),\n",
    "        'Numerical: {}\\n'.format(numerical_gradient[0]),\n",
    "        'Analytical: {}\\n'.format(analytical_gradient[1]),\n",
    "    )\n",
    "    # assert np.allclose(analytical_gradient, numerical_gradient, rtol=1e-4)\n"
   ]
  },
  {
   "cell_type": "code",
   "execution_count": 22,
   "metadata": {},
   "outputs": [
    {
     "name": "stdout",
     "output_type": "stream",
     "text": [
      "<class 'src.tensor.Tensor'>\n"
     ]
    },
    {
     "data": {
      "text/plain": [
       "array([[[ 13.11325525],\n",
       "        [ -2.1701625 ],\n",
       "        [ -1.60704709],\n",
       "        [  5.91985131],\n",
       "        [  1.55876407],\n",
       "        [ -7.76177209],\n",
       "        [ 12.03278283],\n",
       "        [ -3.94733159],\n",
       "        [  7.01277285],\n",
       "        [ -5.2045574 ],\n",
       "        [  1.51618728],\n",
       "        [ -3.63402472],\n",
       "        [  6.1264434 ],\n",
       "        [ 12.33180724],\n",
       "        [  2.78603374],\n",
       "        [ -5.15317112],\n",
       "        [ -0.63593963],\n",
       "        [-10.75349647],\n",
       "        [  7.13087402],\n",
       "        [ -4.59450731],\n",
       "        [  2.99646092],\n",
       "        [ -1.18050586],\n",
       "        [ -6.23091185],\n",
       "        [ -0.72408347]],\n",
       "\n",
       "       [[ 13.11325525],\n",
       "        [ -2.1701625 ],\n",
       "        [ -1.60704709],\n",
       "        [  5.91985131],\n",
       "        [  1.55876407],\n",
       "        [ -7.76177209],\n",
       "        [ 12.03278283],\n",
       "        [ -3.94733159],\n",
       "        [  7.01277285],\n",
       "        [ -5.2045574 ],\n",
       "        [  1.51618728],\n",
       "        [ -3.63402472],\n",
       "        [  6.1264434 ],\n",
       "        [ 12.33180724],\n",
       "        [  2.78603374],\n",
       "        [ -5.15317112],\n",
       "        [ -0.63593963],\n",
       "        [-10.75349647],\n",
       "        [  7.13087402],\n",
       "        [ -4.59450731],\n",
       "        [  2.99646092],\n",
       "        [ -1.18050586],\n",
       "        [ -6.23091185],\n",
       "        [ -0.72408347]],\n",
       "\n",
       "       [[ 13.11325525],\n",
       "        [ -2.1701625 ],\n",
       "        [ -1.60704709],\n",
       "        [  5.91985131],\n",
       "        [  1.55876407],\n",
       "        [ -7.76177209],\n",
       "        [ 12.03278283],\n",
       "        [ -3.94733159],\n",
       "        [  7.01277285],\n",
       "        [ -5.2045574 ],\n",
       "        [  1.51618728],\n",
       "        [ -3.63402472],\n",
       "        [  6.1264434 ],\n",
       "        [ 12.33180724],\n",
       "        [  2.78603374],\n",
       "        [ -5.15317112],\n",
       "        [ -0.63593963],\n",
       "        [-10.75349647],\n",
       "        [  7.13087402],\n",
       "        [ -4.59450731],\n",
       "        [  2.99646092],\n",
       "        [ -1.18050586],\n",
       "        [ -6.23091185],\n",
       "        [ -0.72408347]],\n",
       "\n",
       "       [[ 13.11325525],\n",
       "        [ -2.1701625 ],\n",
       "        [ -1.60704709],\n",
       "        [  5.91985131],\n",
       "        [  1.55876407],\n",
       "        [ -7.76177209],\n",
       "        [ 12.03278283],\n",
       "        [ -3.94733159],\n",
       "        [  7.01277285],\n",
       "        [ -5.2045574 ],\n",
       "        [  1.51618728],\n",
       "        [ -3.63402472],\n",
       "        [  6.1264434 ],\n",
       "        [ 12.33180724],\n",
       "        [  2.78603374],\n",
       "        [ -5.15317112],\n",
       "        [ -0.63593963],\n",
       "        [-10.75349647],\n",
       "        [  7.13087402],\n",
       "        [ -4.59450731],\n",
       "        [  2.99646092],\n",
       "        [ -1.18050586],\n",
       "        [ -6.23091185],\n",
       "        [ -0.72408347]],\n",
       "\n",
       "       [[ 13.11325525],\n",
       "        [ -2.1701625 ],\n",
       "        [ -1.60704709],\n",
       "        [  5.91985131],\n",
       "        [  1.55876407],\n",
       "        [ -7.76177209],\n",
       "        [ 12.03278283],\n",
       "        [ -3.94733159],\n",
       "        [  7.01277285],\n",
       "        [ -5.2045574 ],\n",
       "        [  1.51618728],\n",
       "        [ -3.63402472],\n",
       "        [  6.1264434 ],\n",
       "        [ 12.33180724],\n",
       "        [  2.78603374],\n",
       "        [ -5.15317112],\n",
       "        [ -0.63593963],\n",
       "        [-10.75349647],\n",
       "        [  7.13087402],\n",
       "        [ -4.59450731],\n",
       "        [  2.99646092],\n",
       "        [ -1.18050586],\n",
       "        [ -6.23091185],\n",
       "        [ -0.72408347]],\n",
       "\n",
       "       [[ 13.11325525],\n",
       "        [ -2.1701625 ],\n",
       "        [ -1.60704709],\n",
       "        [  5.91985131],\n",
       "        [  1.55876407],\n",
       "        [ -7.76177209],\n",
       "        [ 12.03278283],\n",
       "        [ -3.94733159],\n",
       "        [  7.01277285],\n",
       "        [ -5.2045574 ],\n",
       "        [  1.51618728],\n",
       "        [ -3.63402472],\n",
       "        [  6.1264434 ],\n",
       "        [ 12.33180724],\n",
       "        [  2.78603374],\n",
       "        [ -5.15317112],\n",
       "        [ -0.63593963],\n",
       "        [-10.75349647],\n",
       "        [  7.13087402],\n",
       "        [ -4.59450731],\n",
       "        [  2.99646092],\n",
       "        [ -1.18050586],\n",
       "        [ -6.23091185],\n",
       "        [ -0.72408347]],\n",
       "\n",
       "       [[ 13.11325525],\n",
       "        [ -2.1701625 ],\n",
       "        [ -1.60704709],\n",
       "        [  5.91985131],\n",
       "        [  1.55876407],\n",
       "        [ -7.76177209],\n",
       "        [ 12.03278283],\n",
       "        [ -3.94733159],\n",
       "        [  7.01277285],\n",
       "        [ -5.2045574 ],\n",
       "        [  1.51618728],\n",
       "        [ -3.63402472],\n",
       "        [  6.1264434 ],\n",
       "        [ 12.33180724],\n",
       "        [  2.78603374],\n",
       "        [ -5.15317112],\n",
       "        [ -0.63593963],\n",
       "        [-10.75349647],\n",
       "        [  7.13087402],\n",
       "        [ -4.59450731],\n",
       "        [  2.99646092],\n",
       "        [ -1.18050586],\n",
       "        [ -6.23091185],\n",
       "        [ -0.72408347]],\n",
       "\n",
       "       [[ 13.11325525],\n",
       "        [ -2.1701625 ],\n",
       "        [ -1.60704709],\n",
       "        [  5.91985131],\n",
       "        [  1.55876407],\n",
       "        [ -7.76177209],\n",
       "        [ 12.03278283],\n",
       "        [ -3.94733159],\n",
       "        [  7.01277285],\n",
       "        [ -5.2045574 ],\n",
       "        [  1.51618728],\n",
       "        [ -3.63402472],\n",
       "        [  6.1264434 ],\n",
       "        [ 12.33180724],\n",
       "        [  2.78603374],\n",
       "        [ -5.15317112],\n",
       "        [ -0.63593963],\n",
       "        [-10.75349647],\n",
       "        [  7.13087402],\n",
       "        [ -4.59450731],\n",
       "        [  2.99646092],\n",
       "        [ -1.18050586],\n",
       "        [ -6.23091185],\n",
       "        [ -0.72408347]],\n",
       "\n",
       "       [[ 13.11325525],\n",
       "        [ -2.1701625 ],\n",
       "        [ -1.60704709],\n",
       "        [  5.91985131],\n",
       "        [  1.55876407],\n",
       "        [ -7.76177209],\n",
       "        [ 12.03278283],\n",
       "        [ -3.94733159],\n",
       "        [  7.01277285],\n",
       "        [ -5.2045574 ],\n",
       "        [  1.51618728],\n",
       "        [ -3.63402472],\n",
       "        [  6.1264434 ],\n",
       "        [ 12.33180724],\n",
       "        [  2.78603374],\n",
       "        [ -5.15317112],\n",
       "        [ -0.63593963],\n",
       "        [-10.75349647],\n",
       "        [  7.13087402],\n",
       "        [ -4.59450731],\n",
       "        [  2.99646092],\n",
       "        [ -1.18050586],\n",
       "        [ -6.23091185],\n",
       "        [ -0.72408347]],\n",
       "\n",
       "       [[ 13.11325525],\n",
       "        [ -2.1701625 ],\n",
       "        [ -1.60704709],\n",
       "        [  5.91985131],\n",
       "        [  1.55876407],\n",
       "        [ -7.76177209],\n",
       "        [ 12.03278283],\n",
       "        [ -3.94733159],\n",
       "        [  7.01277285],\n",
       "        [ -5.2045574 ],\n",
       "        [  1.51618728],\n",
       "        [ -3.63402472],\n",
       "        [  6.1264434 ],\n",
       "        [ 12.33180724],\n",
       "        [  2.78603374],\n",
       "        [ -5.15317112],\n",
       "        [ -0.63593963],\n",
       "        [-10.75349647],\n",
       "        [  7.13087402],\n",
       "        [ -4.59450731],\n",
       "        [  2.99646092],\n",
       "        [ -1.18050586],\n",
       "        [ -6.23091185],\n",
       "        [ -0.72408347]]])"
      ]
     },
     "execution_count": 22,
     "metadata": {},
     "output_type": "execute_result"
    }
   ],
   "source": [
    "point = output.a.a.b.a.b\n",
    "print(type(point))\n",
    "point.grad"
   ]
  },
  {
   "cell_type": "code",
   "execution_count": 11,
   "metadata": {},
   "outputs": [
    {
     "data": {
      "text/plain": [
       "(3, 1)"
      ]
     },
     "execution_count": 11,
     "metadata": {},
     "output_type": "execute_result"
    }
   ],
   "source": [
    "parameter.shape"
   ]
  },
  {
   "cell_type": "code",
   "execution_count": 11,
   "metadata": {},
   "outputs": [
    {
     "data": {
      "text/plain": [
       "(12, 24)"
      ]
     },
     "execution_count": 11,
     "metadata": {},
     "output_type": "execute_result"
    }
   ],
   "source": [
    "point.a.value.shape"
   ]
  },
  {
   "cell_type": "code",
   "execution_count": 11,
   "metadata": {},
   "outputs": [
    {
     "data": {
      "text/plain": [
       "(10, 24, 1)"
      ]
     },
     "execution_count": 11,
     "metadata": {},
     "output_type": "execute_result"
    }
   ],
   "source": [
    "point.b.value.shape"
   ]
  },
  {
   "cell_type": "code",
   "execution_count": 90,
   "metadata": {},
   "outputs": [
    {
     "name": "stdout",
     "output_type": "stream",
     "text": [
      "(10, 1)\n",
      "Dot\n",
      "a: Tensor\n",
      "b: Tensor\n"
     ]
    },
    {
     "data": {
      "text/plain": [
       "array([[0., 0., 0., 0., 0., 0., 0., 0., 0., 0., 0., 0., 0., 0., 0., 0.,\n",
       "        0., 0., 0., 0., 0., 0., 0., 0.],\n",
       "       [0., 0., 0., 0., 0., 0., 0., 0., 0., 0., 0., 0., 0., 0., 0., 0.,\n",
       "        0., 0., 0., 0., 0., 0., 0., 0.],\n",
       "       [0., 0., 0., 0., 0., 0., 0., 0., 0., 0., 0., 0., 0., 0., 0., 0.,\n",
       "        0., 0., 0., 0., 0., 0., 0., 0.],\n",
       "       [0., 0., 0., 0., 0., 0., 0., 0., 0., 0., 0., 0., 0., 0., 0., 0.,\n",
       "        0., 0., 0., 0., 0., 0., 0., 0.],\n",
       "       [0., 0., 0., 0., 0., 0., 0., 0., 0., 0., 0., 0., 0., 0., 0., 0.,\n",
       "        0., 0., 0., 0., 0., 0., 0., 0.],\n",
       "       [0., 0., 0., 0., 0., 0., 0., 0., 0., 0., 0., 0., 0., 0., 0., 0.,\n",
       "        0., 0., 0., 0., 0., 0., 0., 0.],\n",
       "       [0., 0., 0., 0., 0., 0., 0., 0., 0., 0., 0., 0., 0., 0., 0., 0.,\n",
       "        0., 0., 0., 0., 0., 0., 0., 0.],\n",
       "       [0., 0., 0., 0., 0., 0., 0., 0., 0., 0., 0., 0., 0., 0., 0., 0.,\n",
       "        0., 0., 0., 0., 0., 0., 0., 0.],\n",
       "       [0., 0., 0., 0., 0., 0., 0., 0., 0., 0., 0., 0., 0., 0., 0., 0.,\n",
       "        0., 0., 0., 0., 0., 0., 0., 0.],\n",
       "       [0., 0., 0., 0., 0., 0., 0., 0., 0., 0., 0., 0., 0., 0., 0., 0.,\n",
       "        0., 0., 0., 0., 0., 0., 0., 0.]])"
      ]
     },
     "execution_count": 90,
     "metadata": {},
     "output_type": "execute_result"
    }
   ],
   "source": [
    "point = output.a\n",
    "\n",
    "print(point.shape)\n",
    "print(type(point).__name__)\n",
    "print('a: ' + type(point.a).__name__)\n",
    "print('b: ' + type(point.b).__name__)\n",
    "\n",
    "# point.a.value.T @ point.grad\n",
    "point.grad @ point.b.value.swapaxes(-2,-1)"
   ]
  },
  {
   "cell_type": "code",
   "execution_count": 72,
   "metadata": {},
   "outputs": [
    {
     "data": {
      "text/plain": [
       "(10, 1)"
      ]
     },
     "execution_count": 72,
     "metadata": {},
     "output_type": "execute_result"
    }
   ],
   "source": [
    "point.grad.shape"
   ]
  },
  {
   "cell_type": "code",
   "execution_count": 73,
   "metadata": {},
   "outputs": [
    {
     "data": {
      "text/plain": [
       "(1, 24)"
      ]
     },
     "execution_count": 73,
     "metadata": {},
     "output_type": "execute_result"
    }
   ],
   "source": [
    "point.b.value.T.shape"
   ]
  },
  {
   "cell_type": "code",
   "execution_count": 68,
   "metadata": {},
   "outputs": [
    {
     "data": {
      "text/plain": [
       "(10, 10, 1)"
      ]
     },
     "execution_count": 68,
     "metadata": {},
     "output_type": "execute_result"
    }
   ],
   "source": [
    "point.grad.shape"
   ]
  },
  {
   "cell_type": "code",
   "execution_count": 69,
   "metadata": {},
   "outputs": [
    {
     "data": {
      "text/plain": [
       "(1, 24, 10)"
      ]
     },
     "execution_count": 69,
     "metadata": {},
     "output_type": "execute_result"
    }
   ],
   "source": [
    "point.b.value.T.shape"
   ]
  },
  {
   "cell_type": "code",
   "execution_count": 52,
   "metadata": {},
   "outputs": [
    {
     "data": {
      "text/plain": [
       "(10, 10, 1)"
      ]
     },
     "execution_count": 52,
     "metadata": {},
     "output_type": "execute_result"
    }
   ],
   "source": [
    "output.a.shape"
   ]
  },
  {
   "cell_type": "code",
   "execution_count": 74,
   "metadata": {},
   "outputs": [
    {
     "data": {
      "text/plain": [
       "(10, 24)"
      ]
     },
     "execution_count": 74,
     "metadata": {},
     "output_type": "execute_result"
    }
   ],
   "source": [
    "output.a.a.grad.shape"
   ]
  },
  {
   "cell_type": "code",
   "execution_count": 146,
   "metadata": {},
   "outputs": [
    {
     "data": {
      "text/plain": [
       "array([[0., 0., 0., 0., 0., 0., 0., 0., 0., 0., 0., 0., 0., 0., 0., 0.,\n",
       "        0., 0., 0., 0., 0., 0., 0., 0.],\n",
       "       [0., 0., 0., 0., 0., 0., 0., 0., 0., 0., 0., 0., 0., 0., 0., 0.,\n",
       "        0., 0., 0., 0., 0., 0., 0., 0.],\n",
       "       [0., 0., 0., 0., 0., 0., 0., 0., 0., 0., 0., 0., 0., 0., 0., 0.,\n",
       "        0., 0., 0., 0., 0., 0., 0., 0.],\n",
       "       [0., 0., 0., 0., 0., 0., 0., 0., 0., 0., 0., 0., 0., 0., 0., 0.,\n",
       "        0., 0., 0., 0., 0., 0., 0., 0.],\n",
       "       [0., 0., 0., 0., 0., 0., 0., 0., 0., 0., 0., 0., 0., 0., 0., 0.,\n",
       "        0., 0., 0., 0., 0., 0., 0., 0.],\n",
       "       [0., 0., 0., 0., 0., 0., 0., 0., 0., 0., 0., 0., 0., 0., 0., 0.,\n",
       "        0., 0., 0., 0., 0., 0., 0., 0.],\n",
       "       [0., 0., 0., 0., 0., 0., 0., 0., 0., 0., 0., 0., 0., 0., 0., 0.,\n",
       "        0., 0., 0., 0., 0., 0., 0., 0.],\n",
       "       [0., 0., 0., 0., 0., 0., 0., 0., 0., 0., 0., 0., 0., 0., 0., 0.,\n",
       "        0., 0., 0., 0., 0., 0., 0., 0.],\n",
       "       [0., 0., 0., 0., 0., 0., 0., 0., 0., 0., 0., 0., 0., 0., 0., 0.,\n",
       "        0., 0., 0., 0., 0., 0., 0., 0.],\n",
       "       [0., 0., 0., 0., 0., 0., 0., 0., 0., 0., 0., 0., 0., 0., 0., 0.,\n",
       "        0., 0., 0., 0., 0., 0., 0., 0.]])"
      ]
     },
     "execution_count": 146,
     "metadata": {},
     "output_type": "execute_result"
    }
   ],
   "source": [
    "numerical_gradient"
   ]
  },
  {
   "cell_type": "code",
   "execution_count": 125,
   "metadata": {},
   "outputs": [],
   "source": [
    "output = network(input)\n",
    "output.backwards()"
   ]
  },
  {
   "cell_type": "code",
   "execution_count": 126,
   "metadata": {},
   "outputs": [
    {
     "data": {
      "text/plain": [
       "array([[False, False, False, False, False, False, False, False, False,\n",
       "        False, False, False, False, False, False, False, False, False,\n",
       "        False, False, False, False, False, False],\n",
       "       [ True,  True,  True,  True,  True,  True,  True,  True,  True,\n",
       "         True,  True,  True,  True,  True,  True,  True,  True,  True,\n",
       "         True,  True,  True,  True,  True,  True],\n",
       "       [ True,  True,  True,  True,  True,  True,  True,  True,  True,\n",
       "         True,  True,  True,  True,  True,  True,  True,  True,  True,\n",
       "         True,  True,  True,  True,  True,  True],\n",
       "       [False, False, False, False, False, False, False, False, False,\n",
       "        False, False, False, False, False, False, False, False, False,\n",
       "        False, False, False, False, False, False],\n",
       "       [False, False, False, False, False, False, False, False, False,\n",
       "        False, False, False, False, False, False, False, False, False,\n",
       "        False, False, False, False, False, False],\n",
       "       [ True,  True,  True,  True,  True,  True,  True,  True,  True,\n",
       "         True,  True,  True,  True,  True,  True,  True,  True,  True,\n",
       "         True,  True,  True,  True,  True,  True],\n",
       "       [False, False, False, False, False, False,  True, False, False,\n",
       "        False, False, False, False, False, False, False, False, False,\n",
       "        False, False, False, False, False, False],\n",
       "       [False, False, False, False, False, False,  True, False, False,\n",
       "        False, False, False, False, False, False, False, False, False,\n",
       "        False, False, False, False, False, False],\n",
       "       [False, False, False, False, False, False, False, False, False,\n",
       "        False, False, False, False, False, False, False, False, False,\n",
       "        False, False, False, False, False, False],\n",
       "       [ True,  True,  True,  True,  True,  True,  True,  True,  True,\n",
       "         True,  True,  True,  True,  True,  True,  True,  True,  True,\n",
       "         True,  True,  True,  True,  True,  True]])"
      ]
     },
     "execution_count": 126,
     "metadata": {},
     "output_type": "execute_result"
    }
   ],
   "source": [
    "np.isclose(network.fc1.weights.grad, numerical_gradient, atol=1e-1)"
   ]
  },
  {
   "cell_type": "code",
   "execution_count": 117,
   "metadata": {},
   "outputs": [
    {
     "data": {
      "text/plain": [
       "array([[ 0.00000000e+00,  0.00000000e+00,  0.00000000e+00,\n",
       "         0.00000000e+00,  0.00000000e+00,  0.00000000e+00,\n",
       "         0.00000000e+00,  0.00000000e+00,  0.00000000e+00,\n",
       "         0.00000000e+00,  0.00000000e+00,  0.00000000e+00,\n",
       "         0.00000000e+00,  0.00000000e+00,  0.00000000e+00,\n",
       "         0.00000000e+00,  0.00000000e+00,  0.00000000e+00,\n",
       "         0.00000000e+00,  0.00000000e+00,  0.00000000e+00,\n",
       "         0.00000000e+00,  0.00000000e+00,  0.00000000e+00],\n",
       "       [ 0.00000000e+00,  0.00000000e+00,  0.00000000e+00,\n",
       "         0.00000000e+00,  0.00000000e+00,  0.00000000e+00,\n",
       "         0.00000000e+00,  0.00000000e+00,  0.00000000e+00,\n",
       "         0.00000000e+00,  0.00000000e+00,  0.00000000e+00,\n",
       "         0.00000000e+00,  0.00000000e+00,  0.00000000e+00,\n",
       "         0.00000000e+00,  0.00000000e+00,  0.00000000e+00,\n",
       "         0.00000000e+00,  0.00000000e+00,  0.00000000e+00,\n",
       "         0.00000000e+00,  0.00000000e+00,  0.00000000e+00],\n",
       "       [ 0.00000000e+00,  0.00000000e+00,  0.00000000e+00,\n",
       "         0.00000000e+00,  0.00000000e+00,  0.00000000e+00,\n",
       "         0.00000000e+00,  0.00000000e+00,  0.00000000e+00,\n",
       "         0.00000000e+00,  0.00000000e+00,  0.00000000e+00,\n",
       "         0.00000000e+00,  0.00000000e+00,  0.00000000e+00,\n",
       "         0.00000000e+00,  0.00000000e+00,  0.00000000e+00,\n",
       "         0.00000000e+00,  0.00000000e+00,  0.00000000e+00,\n",
       "         0.00000000e+00,  0.00000000e+00,  0.00000000e+00],\n",
       "       [ 0.00000000e+00,  0.00000000e+00,  0.00000000e+00,\n",
       "         0.00000000e+00,  0.00000000e+00,  0.00000000e+00,\n",
       "         0.00000000e+00,  0.00000000e+00,  0.00000000e+00,\n",
       "         0.00000000e+00,  0.00000000e+00,  0.00000000e+00,\n",
       "         0.00000000e+00,  0.00000000e+00,  0.00000000e+00,\n",
       "         0.00000000e+00,  0.00000000e+00,  0.00000000e+00,\n",
       "         0.00000000e+00,  0.00000000e+00,  0.00000000e+00,\n",
       "         0.00000000e+00,  0.00000000e+00,  0.00000000e+00],\n",
       "       [ 1.40452930e-03, -1.24383563e-03,  3.24391576e-03,\n",
       "        -1.75414904e-03, -1.69537889e-03, -1.80364441e-03,\n",
       "         1.45158063e-04,  8.32600442e-03, -2.09260806e-04,\n",
       "         6.64430649e-03,  1.19183627e-03,  3.14783845e-04,\n",
       "         3.12623723e-03,  3.70699133e-03,  4.96079633e-03,\n",
       "         3.80973964e-03,  1.41441454e-03,  5.58120635e-04,\n",
       "        -1.16662992e-03, -4.27152011e-03,  3.10705154e-03,\n",
       "        -3.27973040e-03, -6.81854103e-03, -2.81596313e-04],\n",
       "       [-2.91210308e-03, -1.48678907e-02, -8.77071948e-03,\n",
       "         7.93223702e-04, -7.54119192e-03,  2.40005915e-03,\n",
       "        -2.43447067e-03,  2.26095306e-04,  1.70771301e-03,\n",
       "         4.85176688e-04,  4.19635444e-03, -2.50649130e-03,\n",
       "         3.38622674e-03,  3.86222425e-03,  5.40057057e-04,\n",
       "        -5.44251701e-04,  9.93724943e-03, -2.41905180e-03,\n",
       "         1.78498666e-04, -2.46510534e-04,  7.54862658e-03,\n",
       "        -2.01645814e-03,  5.63844367e-03, -1.85989655e-03],\n",
       "       [ 0.00000000e+00,  0.00000000e+00,  0.00000000e+00,\n",
       "         0.00000000e+00,  0.00000000e+00,  0.00000000e+00,\n",
       "         0.00000000e+00,  0.00000000e+00,  0.00000000e+00,\n",
       "         0.00000000e+00,  0.00000000e+00,  0.00000000e+00,\n",
       "         0.00000000e+00,  0.00000000e+00,  0.00000000e+00,\n",
       "         0.00000000e+00,  0.00000000e+00,  0.00000000e+00,\n",
       "         0.00000000e+00,  0.00000000e+00,  0.00000000e+00,\n",
       "         0.00000000e+00,  0.00000000e+00,  0.00000000e+00],\n",
       "       [ 5.27372075e-03,  8.75182766e-03,  6.25911975e-03,\n",
       "        -6.41290311e-04, -1.11604087e-03, -2.34400214e-03,\n",
       "         1.98402706e-03, -2.47013956e-03,  1.77567250e-03,\n",
       "         4.13149813e-03,  1.22588665e-05, -2.37166531e-03,\n",
       "        -4.38639707e-03,  4.34450288e-03, -4.78934495e-03,\n",
       "         4.97231889e-04,  5.94023973e-04,  2.93889024e-03,\n",
       "        -1.10968607e-03,  2.49730109e-03,  6.48070136e-03,\n",
       "        -4.05228593e-03,  4.34383023e-04,  2.29867937e-03],\n",
       "       [-1.14959797e-03,  2.82445242e-03,  8.21950487e-03,\n",
       "         5.04087317e-03,  6.77017356e-03, -1.50760035e-03,\n",
       "         1.87860050e-03, -2.58192923e-03, -2.82723186e-03,\n",
       "         4.62593673e-03,  5.11952623e-04,  5.31146891e-03,\n",
       "         4.46372946e-03,  3.39309767e-03,  8.68364888e-03,\n",
       "         1.34432789e-05,  5.07295854e-03,  3.69056653e-03,\n",
       "         2.82416938e-03,  3.30718264e-03, -3.02747286e-03,\n",
       "        -1.44050614e-03, -6.68695047e-03,  2.02762597e-03],\n",
       "       [ 0.00000000e+00,  0.00000000e+00,  0.00000000e+00,\n",
       "         0.00000000e+00,  0.00000000e+00,  0.00000000e+00,\n",
       "         0.00000000e+00,  0.00000000e+00,  0.00000000e+00,\n",
       "         0.00000000e+00,  0.00000000e+00,  0.00000000e+00,\n",
       "         0.00000000e+00,  0.00000000e+00,  0.00000000e+00,\n",
       "         0.00000000e+00,  0.00000000e+00,  0.00000000e+00,\n",
       "         0.00000000e+00,  0.00000000e+00,  0.00000000e+00,\n",
       "         0.00000000e+00,  0.00000000e+00,  0.00000000e+00]])"
      ]
     },
     "execution_count": 117,
     "metadata": {},
     "output_type": "execute_result"
    }
   ],
   "source": [
    "(network.fc1.weights.grad - numerical_gradient)"
   ]
  },
  {
   "cell_type": "code",
   "execution_count": null,
   "metadata": {},
   "outputs": [],
   "source": []
  }
 ],
 "metadata": {
  "kernelspec": {
   "display_name": "Python 3.10.4 ('nn')",
   "language": "python",
   "name": "python3"
  },
  "language_info": {
   "codemirror_mode": {
    "name": "ipython",
    "version": 3
   },
   "file_extension": ".py",
   "mimetype": "text/x-python",
   "name": "python",
   "nbconvert_exporter": "python",
   "pygments_lexer": "ipython3",
   "version": "3.10.4"
  },
  "orig_nbformat": 4,
  "vscode": {
   "interpreter": {
    "hash": "c5adc4ccc9e96b1b3469789a58e2da178855233ea4ef51c15a8087023f712348"
   }
  }
 },
 "nbformat": 4,
 "nbformat_minor": 2
}
