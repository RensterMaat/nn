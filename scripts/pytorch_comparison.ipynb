{
 "cells": [
  {
   "cell_type": "code",
   "execution_count": 11,
   "metadata": {},
   "outputs": [],
   "source": [
    "import numpy as np\n",
    "from src.tensor import Tensor \n",
    "from src.module import Module\n",
    "from src.functional import Linear, ReLU, Softmax\n",
    "\n",
    "class MLP(Module):\n",
    "    def __init__(self):\n",
    "        self.fc1 = Linear(24, 12, bias=True)\n",
    "        self.relu = ReLU()\n",
    "        self.fc2 = Linear(12,6)\n",
    "        self.softmax = Softmax()\n",
    "\n",
    "    def forward(self, x):\n",
    "        out = self.fc1(x)\n",
    "        # out = self.relu(out)\n",
    "        out = self.fc2(out)\n",
    "        # out = self.softmax(out)\n",
    "        out = out.sum()\n",
    "        return out\n",
    "\n",
    "network = MLP()\n",
    "input = Tensor(np.random.randn(10,24, 1))\n",
    "output = network(input)\n",
    "\n",
    "output.backwards()"
   ]
  },
  {
   "cell_type": "code",
   "execution_count": 12,
   "metadata": {},
   "outputs": [
    {
     "name": "stdout",
     "output_type": "stream",
     "text": [
      "fc1__weights\n",
      "(12, 24)\n",
      "(10, 12, 24)\n",
      "fc1__bias\n",
      "(12, 1)\n",
      "(10, 12, 1)\n",
      "fc2__weights\n",
      "(6, 12)\n",
      "(10, 6, 12)\n",
      "fc2__bias\n",
      "(6, 1)\n",
      "(10, 6, 1)\n"
     ]
    }
   ],
   "source": [
    "for name, param in network.parameters().items():\n",
    "    print(name)\n",
    "    print(param.shape)\n",
    "    print(param.grad.shape)"
   ]
  },
  {
   "cell_type": "code",
   "execution_count": 19,
   "metadata": {},
   "outputs": [],
   "source": [
    "zero_grad = np.zeros(param.shape)\n",
    "grad = param.grad"
   ]
  },
  {
   "cell_type": "code",
   "execution_count": 25,
   "metadata": {},
   "outputs": [
    {
     "data": {
      "text/plain": [
       "(6, 1)"
      ]
     },
     "execution_count": 25,
     "metadata": {},
     "output_type": "execute_result"
    }
   ],
   "source": [
    "zero_grad.shape"
   ]
  },
  {
   "cell_type": "code",
   "execution_count": 2,
   "metadata": {},
   "outputs": [
    {
     "name": "stdout",
     "output_type": "stream",
     "text": [
      "(10, 12, 1) (10, 12, 1)\n",
      "<class 'src.tensor.Tensor'>\n",
      "(12, 24) (12, 24)\n",
      "<class 'src.tensor.Tensor'>\n",
      "(10, 24, 1) (10, 24, 1)\n"
     ]
    }
   ],
   "source": [
    "point = output.b.a.a.b.a\n",
    "\n",
    "print(point.shape, point.grad.shape)\n",
    "print(type(point.a))\n",
    "if point.a: print(point.a.shape, point.a.grad.shape)\n",
    "print(type(point.b))\n",
    "if point.b: print(point.b.shape, point.b.grad.shape)\n"
   ]
  },
  {
   "cell_type": "code",
   "execution_count": 6,
   "metadata": {},
   "outputs": [
    {
     "name": "stdout",
     "output_type": "stream",
     "text": [
      "Parameter: fc1__weights\n",
      " Numerical: [-0.31714717  0.67218665 -0.15955513  0.93238769 -0.81960036 -1.65244866\n",
      "  0.15299202 -0.40875772 -2.86273907 -1.65214821 -0.6426733  -1.12724083\n",
      "  0.14303217  2.01383753 -1.22888828  0.9516711  -2.69486153 -0.12370934\n",
      "  0.11356418 -0.67005702 -2.07473908  2.08483003  1.26924049 -1.08578765]\n",
      " Analytical: [ -1.15204501   2.44173474  -0.57958799   3.38692149  -2.97721873\n",
      "  -6.00256094   0.5557473   -1.4848226  -10.398971    -6.00146953\n",
      "  -2.33452679  -4.0947304    0.51956793   7.31531501  -4.46396729\n",
      "   3.45696898  -9.78915162  -0.44937726   0.4125247   -2.43399881\n",
      "  -7.53654136   7.57319702   4.61054771  -3.94415068]\n",
      "\n",
      "Parameter: fc1__bias\n",
      " Numerical: [1.87772326]\n",
      " Analytical: [[ 0.        ]\n",
      " [ 0.        ]\n",
      " [-0.66032247]\n",
      " [ 2.23605748]\n",
      " [ 0.        ]\n",
      " [ 0.16552855]\n",
      " [-3.12532834]\n",
      " [ 0.        ]\n",
      " [ 0.        ]\n",
      " [-3.07618306]\n",
      " [ 0.        ]\n",
      " [ 0.        ]]\n",
      "\n",
      "Parameter: fc2__weights\n",
      " Numerical: [ 2.66418218  0.9730659   3.10905489  6.09332695  0.         14.55305218\n",
      " 21.69175972  0.32250848  1.9700702   3.43439078  0.          7.69292917]\n",
      " Analytical: [ 2.66418218  0.9730659   3.10905489  6.09332695  0.         14.55305218\n",
      " 21.69175972  0.32250848  1.9700702   3.43439078  0.          7.69292917]\n",
      "\n",
      "Parameter: fc2__bias\n",
      " Numerical: [2.99999999]\n",
      " Analytical: [[1.]\n",
      " [1.]\n",
      " [1.]]\n",
      "\n"
     ]
    }
   ],
   "source": [
    "import pytest\n",
    "import numpy as np\n",
    "from src.tensor import Tensor\n",
    "from src.module import Module\n",
    "from src.functional import Linear, ReLU, Softmax\n",
    "from tests.util import get_numerical_gradient\n",
    "\n",
    "class MLP(Module):\n",
    "    def __init__(self):\n",
    "        self.fc1 = Linear(24, 12)\n",
    "        self.relu = ReLU()\n",
    "        self.fc2 = Linear(12,3)\n",
    "        self.softmax = Softmax()\n",
    "\n",
    "    def forward(self, x):\n",
    "        out = self.fc1(x)\n",
    "        out = self.relu(out)\n",
    "        out = self.fc2(out)\n",
    "        # out = self.softmax(out)\n",
    "        out = out.sum()\n",
    "        return out\n",
    "\n",
    "\n",
    "network = MLP()\n",
    "input_tensor = Tensor(np.random.randn(3,24,1))\n",
    "\n",
    "output = network(input_tensor)\n",
    "output.backwards()\n",
    "\n",
    "parameters = network.parameters()\n",
    "\n",
    "for name, parameter in parameters.items():\n",
    "    numerical_gradient = get_numerical_gradient(network, input_tensor, parameter)\n",
    "    analytical_gradient = parameter.grad\n",
    "\n",
    "\n",
    "    print(\n",
    "        'Parameter: {}\\n'.format(name),\n",
    "        'Numerical: {}\\n'.format(numerical_gradient[0]),\n",
    "        'Analytical: {}\\n'.format(analytical_gradient[1]),\n",
    "    )\n",
    "    # assert np.allclose(analytical_gradient, numerical_gradient, rtol=1e-4)\n"
   ]
  },
  {
   "cell_type": "code",
   "execution_count": 10,
   "metadata": {},
   "outputs": [
    {
     "data": {
      "text/plain": [
       "(3, 3, 1)"
      ]
     },
     "execution_count": 10,
     "metadata": {},
     "output_type": "execute_result"
    }
   ],
   "source": [
    "parameter.grad.shape\n"
   ]
  },
  {
   "cell_type": "code",
   "execution_count": 11,
   "metadata": {},
   "outputs": [
    {
     "data": {
      "text/plain": [
       "(3, 1)"
      ]
     },
     "execution_count": 11,
     "metadata": {},
     "output_type": "execute_result"
    }
   ],
   "source": [
    "parameter.shape"
   ]
  },
  {
   "cell_type": "code",
   "execution_count": 11,
   "metadata": {},
   "outputs": [
    {
     "data": {
      "text/plain": [
       "(12, 24)"
      ]
     },
     "execution_count": 11,
     "metadata": {},
     "output_type": "execute_result"
    }
   ],
   "source": [
    "point.a.value.shape"
   ]
  },
  {
   "cell_type": "code",
   "execution_count": 11,
   "metadata": {},
   "outputs": [
    {
     "data": {
      "text/plain": [
       "(10, 24, 1)"
      ]
     },
     "execution_count": 11,
     "metadata": {},
     "output_type": "execute_result"
    }
   ],
   "source": [
    "point.b.value.shape"
   ]
  },
  {
   "cell_type": "code",
   "execution_count": 90,
   "metadata": {},
   "outputs": [
    {
     "name": "stdout",
     "output_type": "stream",
     "text": [
      "(10, 1)\n",
      "Dot\n",
      "a: Tensor\n",
      "b: Tensor\n"
     ]
    },
    {
     "data": {
      "text/plain": [
       "array([[0., 0., 0., 0., 0., 0., 0., 0., 0., 0., 0., 0., 0., 0., 0., 0.,\n",
       "        0., 0., 0., 0., 0., 0., 0., 0.],\n",
       "       [0., 0., 0., 0., 0., 0., 0., 0., 0., 0., 0., 0., 0., 0., 0., 0.,\n",
       "        0., 0., 0., 0., 0., 0., 0., 0.],\n",
       "       [0., 0., 0., 0., 0., 0., 0., 0., 0., 0., 0., 0., 0., 0., 0., 0.,\n",
       "        0., 0., 0., 0., 0., 0., 0., 0.],\n",
       "       [0., 0., 0., 0., 0., 0., 0., 0., 0., 0., 0., 0., 0., 0., 0., 0.,\n",
       "        0., 0., 0., 0., 0., 0., 0., 0.],\n",
       "       [0., 0., 0., 0., 0., 0., 0., 0., 0., 0., 0., 0., 0., 0., 0., 0.,\n",
       "        0., 0., 0., 0., 0., 0., 0., 0.],\n",
       "       [0., 0., 0., 0., 0., 0., 0., 0., 0., 0., 0., 0., 0., 0., 0., 0.,\n",
       "        0., 0., 0., 0., 0., 0., 0., 0.],\n",
       "       [0., 0., 0., 0., 0., 0., 0., 0., 0., 0., 0., 0., 0., 0., 0., 0.,\n",
       "        0., 0., 0., 0., 0., 0., 0., 0.],\n",
       "       [0., 0., 0., 0., 0., 0., 0., 0., 0., 0., 0., 0., 0., 0., 0., 0.,\n",
       "        0., 0., 0., 0., 0., 0., 0., 0.],\n",
       "       [0., 0., 0., 0., 0., 0., 0., 0., 0., 0., 0., 0., 0., 0., 0., 0.,\n",
       "        0., 0., 0., 0., 0., 0., 0., 0.],\n",
       "       [0., 0., 0., 0., 0., 0., 0., 0., 0., 0., 0., 0., 0., 0., 0., 0.,\n",
       "        0., 0., 0., 0., 0., 0., 0., 0.]])"
      ]
     },
     "execution_count": 90,
     "metadata": {},
     "output_type": "execute_result"
    }
   ],
   "source": [
    "point = output.a\n",
    "\n",
    "print(point.shape)\n",
    "print(type(point).__name__)\n",
    "print('a: ' + type(point.a).__name__)\n",
    "print('b: ' + type(point.b).__name__)\n",
    "\n",
    "# point.a.value.T @ point.grad\n",
    "point.grad @ point.b.value.swapaxes(-2,-1)"
   ]
  },
  {
   "cell_type": "code",
   "execution_count": 72,
   "metadata": {},
   "outputs": [
    {
     "data": {
      "text/plain": [
       "(10, 1)"
      ]
     },
     "execution_count": 72,
     "metadata": {},
     "output_type": "execute_result"
    }
   ],
   "source": [
    "point.grad.shape"
   ]
  },
  {
   "cell_type": "code",
   "execution_count": 73,
   "metadata": {},
   "outputs": [
    {
     "data": {
      "text/plain": [
       "(1, 24)"
      ]
     },
     "execution_count": 73,
     "metadata": {},
     "output_type": "execute_result"
    }
   ],
   "source": [
    "point.b.value.T.shape"
   ]
  },
  {
   "cell_type": "code",
   "execution_count": 68,
   "metadata": {},
   "outputs": [
    {
     "data": {
      "text/plain": [
       "(10, 10, 1)"
      ]
     },
     "execution_count": 68,
     "metadata": {},
     "output_type": "execute_result"
    }
   ],
   "source": [
    "point.grad.shape"
   ]
  },
  {
   "cell_type": "code",
   "execution_count": 69,
   "metadata": {},
   "outputs": [
    {
     "data": {
      "text/plain": [
       "(1, 24, 10)"
      ]
     },
     "execution_count": 69,
     "metadata": {},
     "output_type": "execute_result"
    }
   ],
   "source": [
    "point.b.value.T.shape"
   ]
  },
  {
   "cell_type": "code",
   "execution_count": 52,
   "metadata": {},
   "outputs": [
    {
     "data": {
      "text/plain": [
       "(10, 10, 1)"
      ]
     },
     "execution_count": 52,
     "metadata": {},
     "output_type": "execute_result"
    }
   ],
   "source": [
    "output.a.shape"
   ]
  },
  {
   "cell_type": "code",
   "execution_count": 74,
   "metadata": {},
   "outputs": [
    {
     "data": {
      "text/plain": [
       "(10, 24)"
      ]
     },
     "execution_count": 74,
     "metadata": {},
     "output_type": "execute_result"
    }
   ],
   "source": [
    "output.a.a.grad.shape"
   ]
  },
  {
   "cell_type": "code",
   "execution_count": 146,
   "metadata": {},
   "outputs": [
    {
     "data": {
      "text/plain": [
       "array([[0., 0., 0., 0., 0., 0., 0., 0., 0., 0., 0., 0., 0., 0., 0., 0.,\n",
       "        0., 0., 0., 0., 0., 0., 0., 0.],\n",
       "       [0., 0., 0., 0., 0., 0., 0., 0., 0., 0., 0., 0., 0., 0., 0., 0.,\n",
       "        0., 0., 0., 0., 0., 0., 0., 0.],\n",
       "       [0., 0., 0., 0., 0., 0., 0., 0., 0., 0., 0., 0., 0., 0., 0., 0.,\n",
       "        0., 0., 0., 0., 0., 0., 0., 0.],\n",
       "       [0., 0., 0., 0., 0., 0., 0., 0., 0., 0., 0., 0., 0., 0., 0., 0.,\n",
       "        0., 0., 0., 0., 0., 0., 0., 0.],\n",
       "       [0., 0., 0., 0., 0., 0., 0., 0., 0., 0., 0., 0., 0., 0., 0., 0.,\n",
       "        0., 0., 0., 0., 0., 0., 0., 0.],\n",
       "       [0., 0., 0., 0., 0., 0., 0., 0., 0., 0., 0., 0., 0., 0., 0., 0.,\n",
       "        0., 0., 0., 0., 0., 0., 0., 0.],\n",
       "       [0., 0., 0., 0., 0., 0., 0., 0., 0., 0., 0., 0., 0., 0., 0., 0.,\n",
       "        0., 0., 0., 0., 0., 0., 0., 0.],\n",
       "       [0., 0., 0., 0., 0., 0., 0., 0., 0., 0., 0., 0., 0., 0., 0., 0.,\n",
       "        0., 0., 0., 0., 0., 0., 0., 0.],\n",
       "       [0., 0., 0., 0., 0., 0., 0., 0., 0., 0., 0., 0., 0., 0., 0., 0.,\n",
       "        0., 0., 0., 0., 0., 0., 0., 0.],\n",
       "       [0., 0., 0., 0., 0., 0., 0., 0., 0., 0., 0., 0., 0., 0., 0., 0.,\n",
       "        0., 0., 0., 0., 0., 0., 0., 0.]])"
      ]
     },
     "execution_count": 146,
     "metadata": {},
     "output_type": "execute_result"
    }
   ],
   "source": [
    "numerical_gradient"
   ]
  },
  {
   "cell_type": "code",
   "execution_count": 125,
   "metadata": {},
   "outputs": [],
   "source": [
    "output = network(input)\n",
    "output.backwards()"
   ]
  },
  {
   "cell_type": "code",
   "execution_count": 126,
   "metadata": {},
   "outputs": [
    {
     "data": {
      "text/plain": [
       "array([[False, False, False, False, False, False, False, False, False,\n",
       "        False, False, False, False, False, False, False, False, False,\n",
       "        False, False, False, False, False, False],\n",
       "       [ True,  True,  True,  True,  True,  True,  True,  True,  True,\n",
       "         True,  True,  True,  True,  True,  True,  True,  True,  True,\n",
       "         True,  True,  True,  True,  True,  True],\n",
       "       [ True,  True,  True,  True,  True,  True,  True,  True,  True,\n",
       "         True,  True,  True,  True,  True,  True,  True,  True,  True,\n",
       "         True,  True,  True,  True,  True,  True],\n",
       "       [False, False, False, False, False, False, False, False, False,\n",
       "        False, False, False, False, False, False, False, False, False,\n",
       "        False, False, False, False, False, False],\n",
       "       [False, False, False, False, False, False, False, False, False,\n",
       "        False, False, False, False, False, False, False, False, False,\n",
       "        False, False, False, False, False, False],\n",
       "       [ True,  True,  True,  True,  True,  True,  True,  True,  True,\n",
       "         True,  True,  True,  True,  True,  True,  True,  True,  True,\n",
       "         True,  True,  True,  True,  True,  True],\n",
       "       [False, False, False, False, False, False,  True, False, False,\n",
       "        False, False, False, False, False, False, False, False, False,\n",
       "        False, False, False, False, False, False],\n",
       "       [False, False, False, False, False, False,  True, False, False,\n",
       "        False, False, False, False, False, False, False, False, False,\n",
       "        False, False, False, False, False, False],\n",
       "       [False, False, False, False, False, False, False, False, False,\n",
       "        False, False, False, False, False, False, False, False, False,\n",
       "        False, False, False, False, False, False],\n",
       "       [ True,  True,  True,  True,  True,  True,  True,  True,  True,\n",
       "         True,  True,  True,  True,  True,  True,  True,  True,  True,\n",
       "         True,  True,  True,  True,  True,  True]])"
      ]
     },
     "execution_count": 126,
     "metadata": {},
     "output_type": "execute_result"
    }
   ],
   "source": [
    "np.isclose(network.fc1.weights.grad, numerical_gradient, atol=1e-1)"
   ]
  },
  {
   "cell_type": "code",
   "execution_count": 117,
   "metadata": {},
   "outputs": [
    {
     "data": {
      "text/plain": [
       "array([[ 0.00000000e+00,  0.00000000e+00,  0.00000000e+00,\n",
       "         0.00000000e+00,  0.00000000e+00,  0.00000000e+00,\n",
       "         0.00000000e+00,  0.00000000e+00,  0.00000000e+00,\n",
       "         0.00000000e+00,  0.00000000e+00,  0.00000000e+00,\n",
       "         0.00000000e+00,  0.00000000e+00,  0.00000000e+00,\n",
       "         0.00000000e+00,  0.00000000e+00,  0.00000000e+00,\n",
       "         0.00000000e+00,  0.00000000e+00,  0.00000000e+00,\n",
       "         0.00000000e+00,  0.00000000e+00,  0.00000000e+00],\n",
       "       [ 0.00000000e+00,  0.00000000e+00,  0.00000000e+00,\n",
       "         0.00000000e+00,  0.00000000e+00,  0.00000000e+00,\n",
       "         0.00000000e+00,  0.00000000e+00,  0.00000000e+00,\n",
       "         0.00000000e+00,  0.00000000e+00,  0.00000000e+00,\n",
       "         0.00000000e+00,  0.00000000e+00,  0.00000000e+00,\n",
       "         0.00000000e+00,  0.00000000e+00,  0.00000000e+00,\n",
       "         0.00000000e+00,  0.00000000e+00,  0.00000000e+00,\n",
       "         0.00000000e+00,  0.00000000e+00,  0.00000000e+00],\n",
       "       [ 0.00000000e+00,  0.00000000e+00,  0.00000000e+00,\n",
       "         0.00000000e+00,  0.00000000e+00,  0.00000000e+00,\n",
       "         0.00000000e+00,  0.00000000e+00,  0.00000000e+00,\n",
       "         0.00000000e+00,  0.00000000e+00,  0.00000000e+00,\n",
       "         0.00000000e+00,  0.00000000e+00,  0.00000000e+00,\n",
       "         0.00000000e+00,  0.00000000e+00,  0.00000000e+00,\n",
       "         0.00000000e+00,  0.00000000e+00,  0.00000000e+00,\n",
       "         0.00000000e+00,  0.00000000e+00,  0.00000000e+00],\n",
       "       [ 0.00000000e+00,  0.00000000e+00,  0.00000000e+00,\n",
       "         0.00000000e+00,  0.00000000e+00,  0.00000000e+00,\n",
       "         0.00000000e+00,  0.00000000e+00,  0.00000000e+00,\n",
       "         0.00000000e+00,  0.00000000e+00,  0.00000000e+00,\n",
       "         0.00000000e+00,  0.00000000e+00,  0.00000000e+00,\n",
       "         0.00000000e+00,  0.00000000e+00,  0.00000000e+00,\n",
       "         0.00000000e+00,  0.00000000e+00,  0.00000000e+00,\n",
       "         0.00000000e+00,  0.00000000e+00,  0.00000000e+00],\n",
       "       [ 1.40452930e-03, -1.24383563e-03,  3.24391576e-03,\n",
       "        -1.75414904e-03, -1.69537889e-03, -1.80364441e-03,\n",
       "         1.45158063e-04,  8.32600442e-03, -2.09260806e-04,\n",
       "         6.64430649e-03,  1.19183627e-03,  3.14783845e-04,\n",
       "         3.12623723e-03,  3.70699133e-03,  4.96079633e-03,\n",
       "         3.80973964e-03,  1.41441454e-03,  5.58120635e-04,\n",
       "        -1.16662992e-03, -4.27152011e-03,  3.10705154e-03,\n",
       "        -3.27973040e-03, -6.81854103e-03, -2.81596313e-04],\n",
       "       [-2.91210308e-03, -1.48678907e-02, -8.77071948e-03,\n",
       "         7.93223702e-04, -7.54119192e-03,  2.40005915e-03,\n",
       "        -2.43447067e-03,  2.26095306e-04,  1.70771301e-03,\n",
       "         4.85176688e-04,  4.19635444e-03, -2.50649130e-03,\n",
       "         3.38622674e-03,  3.86222425e-03,  5.40057057e-04,\n",
       "        -5.44251701e-04,  9.93724943e-03, -2.41905180e-03,\n",
       "         1.78498666e-04, -2.46510534e-04,  7.54862658e-03,\n",
       "        -2.01645814e-03,  5.63844367e-03, -1.85989655e-03],\n",
       "       [ 0.00000000e+00,  0.00000000e+00,  0.00000000e+00,\n",
       "         0.00000000e+00,  0.00000000e+00,  0.00000000e+00,\n",
       "         0.00000000e+00,  0.00000000e+00,  0.00000000e+00,\n",
       "         0.00000000e+00,  0.00000000e+00,  0.00000000e+00,\n",
       "         0.00000000e+00,  0.00000000e+00,  0.00000000e+00,\n",
       "         0.00000000e+00,  0.00000000e+00,  0.00000000e+00,\n",
       "         0.00000000e+00,  0.00000000e+00,  0.00000000e+00,\n",
       "         0.00000000e+00,  0.00000000e+00,  0.00000000e+00],\n",
       "       [ 5.27372075e-03,  8.75182766e-03,  6.25911975e-03,\n",
       "        -6.41290311e-04, -1.11604087e-03, -2.34400214e-03,\n",
       "         1.98402706e-03, -2.47013956e-03,  1.77567250e-03,\n",
       "         4.13149813e-03,  1.22588665e-05, -2.37166531e-03,\n",
       "        -4.38639707e-03,  4.34450288e-03, -4.78934495e-03,\n",
       "         4.97231889e-04,  5.94023973e-04,  2.93889024e-03,\n",
       "        -1.10968607e-03,  2.49730109e-03,  6.48070136e-03,\n",
       "        -4.05228593e-03,  4.34383023e-04,  2.29867937e-03],\n",
       "       [-1.14959797e-03,  2.82445242e-03,  8.21950487e-03,\n",
       "         5.04087317e-03,  6.77017356e-03, -1.50760035e-03,\n",
       "         1.87860050e-03, -2.58192923e-03, -2.82723186e-03,\n",
       "         4.62593673e-03,  5.11952623e-04,  5.31146891e-03,\n",
       "         4.46372946e-03,  3.39309767e-03,  8.68364888e-03,\n",
       "         1.34432789e-05,  5.07295854e-03,  3.69056653e-03,\n",
       "         2.82416938e-03,  3.30718264e-03, -3.02747286e-03,\n",
       "        -1.44050614e-03, -6.68695047e-03,  2.02762597e-03],\n",
       "       [ 0.00000000e+00,  0.00000000e+00,  0.00000000e+00,\n",
       "         0.00000000e+00,  0.00000000e+00,  0.00000000e+00,\n",
       "         0.00000000e+00,  0.00000000e+00,  0.00000000e+00,\n",
       "         0.00000000e+00,  0.00000000e+00,  0.00000000e+00,\n",
       "         0.00000000e+00,  0.00000000e+00,  0.00000000e+00,\n",
       "         0.00000000e+00,  0.00000000e+00,  0.00000000e+00,\n",
       "         0.00000000e+00,  0.00000000e+00,  0.00000000e+00,\n",
       "         0.00000000e+00,  0.00000000e+00,  0.00000000e+00]])"
      ]
     },
     "execution_count": 117,
     "metadata": {},
     "output_type": "execute_result"
    }
   ],
   "source": [
    "(network.fc1.weights.grad - numerical_gradient)"
   ]
  },
  {
   "cell_type": "code",
   "execution_count": null,
   "metadata": {},
   "outputs": [],
   "source": []
  }
 ],
 "metadata": {
  "kernelspec": {
   "display_name": "Python 3.10.4 ('nn')",
   "language": "python",
   "name": "python3"
  },
  "language_info": {
   "codemirror_mode": {
    "name": "ipython",
    "version": 3
   },
   "file_extension": ".py",
   "mimetype": "text/x-python",
   "name": "python",
   "nbconvert_exporter": "python",
   "pygments_lexer": "ipython3",
   "version": "3.10.4"
  },
  "orig_nbformat": 4,
  "vscode": {
   "interpreter": {
    "hash": "c5adc4ccc9e96b1b3469789a58e2da178855233ea4ef51c15a8087023f712348"
   }
  }
 },
 "nbformat": 4,
 "nbformat_minor": 2
}
